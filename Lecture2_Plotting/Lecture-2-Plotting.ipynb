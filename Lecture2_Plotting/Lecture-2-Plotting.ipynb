{
 "cells": [
  {
   "cell_type": "markdown",
   "metadata": {},
   "source": [
    "\n",
    "# Introduction to Plotting in python\n",
    "* We will learn to use various libraries such as NumPy, Pandas, Matplotlib, Seaborn etc in python for easy plotting\n"
   ]
  },
  {
   "cell_type": "markdown",
   "metadata": {},
   "source": [
    "# Table of Content\n",
    "<ul>\n",
    "    <li> <a href=\"#scatter\"> Scatter Plot </a> </li>\n",
    "    <li> <a href=\"#stacked\"> Stacked plot </a> </li>\n",
    "    <li> <a href=\"#histogram\"> Histograms, Box plots and Violin plots</a> </li>\n",
    "    <li> <a href=\"#3dplots\"> 3D plots </a> </li>\n",
    "    <li> <a href=\"#correlation\"> Plotting correlation between variables </a> </li>\n",
    "    <li> <a href=\"#bar\"> Bar Plots </a> </li>\n",
    "    <li> <a href=\"#interactive\"> Interactive plotting with ipywidgets </a> </li>  \n",
    "</ul>"
   ]
  },
  {
   "cell_type": "markdown",
   "metadata": {},
   "source": [
    "Lets import all the necessary python libraries"
   ]
  },
  {
   "cell_type": "code",
   "execution_count": null,
   "metadata": {},
   "outputs": [],
   "source": [
    "import numpy as np\n",
    "import pandas as pd\n",
    "# To plot things in the note book\n",
    "%matplotlib inline \n",
    "import matplotlib.pyplot as plt\n",
    "from ipywidgets import interact, widgets\n",
    "import seaborn as sns  # Provide high level interface and draw beautiful plots\n",
    "import random\n",
    "\n",
    "# Set up figure size and DPI for screen demo\n",
    "#plt.rcParams['figure.figsize'] = (6,4)\n",
    "#plt.rcParams['figure.dpi'] = 150"
   ]
  },
  {
   "cell_type": "code",
   "execution_count": null,
   "metadata": {},
   "outputs": [],
   "source": [
    "plt.style.available\n",
    "#plt.style.use('dark_background')\n",
    "#plt.style.use('ggplot')"
   ]
  },
  {
   "cell_type": "markdown",
   "metadata": {},
   "source": [
    "<a id='scatter'></a>\n",
    "# Scatter plot\n",
    "* This kind of plot is useful to see complex relation between two variables\n"
   ]
  },
  {
   "cell_type": "markdown",
   "metadata": {},
   "source": [
    "## <font color='black' >Lets Create some fake data and draw a line plot </font> "
   ]
  },
  {
   "cell_type": "code",
   "execution_count": null,
   "metadata": {},
   "outputs": [],
   "source": [
    "x = np.arange(0,50,1)\n",
    "y = 5 + 2*x\n",
    "y = y + np.random.normal(0,2,size=len(x))"
   ]
  },
  {
   "cell_type": "markdown",
   "metadata": {},
   "source": [
    "### Draw Line plot and Scatter plot. These types of plots are generally use to see the correlation between two variables. For example how one variable changes if other changes"
   ]
  },
  {
   "cell_type": "code",
   "execution_count": null,
   "metadata": {},
   "outputs": [],
   "source": [
    "# Create figure\n",
    "plt.figure(figsize=(6, 6))\n",
    "# Create line plot\n",
    "plt.plot(x, y, label='x vs y')\n",
    "# Add legend\n",
    "plt.legend()\n",
    "\n",
    "# Specify ticks for x- and y-axis\n",
    "plt.xticks(np.arange(0, 50, 5))\n",
    "plt.yticks(np.arange(0, max(y), 5))\n",
    "ax = plt.gca()\n",
    "# Add labels\n",
    "plt.xlabel('Quantity X (arbitrary units)')\n",
    "plt.ylabel('Quantity Y (arbitrary units)')\n",
    "# Show plot\n",
    "plt.show()\n"
   ]
  },
  {
   "cell_type": "code",
   "execution_count": null,
   "metadata": {},
   "outputs": [],
   "source": [
    "# Create figure\n",
    "plt.figure(figsize=(6, 6))\n",
    "# Create line plot\n",
    "plt.scatter(x, y, label='x vs y',color='green', s=25, marker='*')\n",
    "# Add legend\n",
    "plt.legend()\n",
    "\n",
    "# Specify ticks for x- and y-axis\n",
    "plt.xticks(np.arange(0, 50, 5))\n",
    "plt.yticks(np.arange(0, max(y), 5))\n",
    "ax = plt.gca()\n",
    "# Add labels\n",
    "plt.xlabel('Quantity X (arbitrary units)')\n",
    "plt.ylabel('Quantity Y (arbitrary units)')\n",
    "# Show plot\n",
    "plt.show()"
   ]
  },
  {
   "cell_type": "markdown",
   "metadata": {},
   "source": [
    "### Draw plot side by side"
   ]
  },
  {
   "cell_type": "code",
   "execution_count": null,
   "metadata": {},
   "outputs": [],
   "source": [
    "fig, axes = plt.subplots(nrows=1, ncols=2, figsize=(6, 3),sharey=True, gridspec_kw={'hspace': 0, 'wspace': 0.1})\n",
    "# if you want to plot one on top of other, then simply change nrows=2, ncols=1\n",
    "axes[0].plot(x, y)\n",
    "axes[0].set_xlabel('X')\n",
    "axes[0].set_ylabel('y')\n",
    "\n",
    "axes[1].scatter(x, y)\n",
    "axes[1].set_xlabel('X')"
   ]
  },
  {
   "cell_type": "markdown",
   "metadata": {},
   "source": [
    "### Regression line using seaborn"
   ]
  },
  {
   "cell_type": "code",
   "execution_count": null,
   "metadata": {},
   "outputs": [],
   "source": [
    "plt.figure(figsize=(10, 6), dpi=50)\n",
    "# Create scatter plot\n",
    "sns.regplot(x=x, y=y)\n",
    "plt.xlabel('Quantity X (arbitrary units)')\n",
    "plt.ylabel('Quantity Y (arbitrary units)')\n"
   ]
  },
  {
   "cell_type": "markdown",
   "metadata": {},
   "source": [
    "<a id='stacked'></a>\n",
    "#  Stacked Plots \n",
    "* A stack plot is a plot that shows the whole data set with easy visualization of how each part makes up the whole.\n",
    "* Each constituent of the stack plot is stacked on top of each other"
   ]
  },
  {
   "cell_type": "code",
   "execution_count": null,
   "metadata": {},
   "outputs": [],
   "source": [
    "sales = pd.read_csv('datafiles/smartphone_sales.csv')\n",
    "sales.head(5)"
   ]
  },
  {
   "cell_type": "code",
   "execution_count": null,
   "metadata": {},
   "outputs": [],
   "source": [
    "#lets drop first column\n",
    "df = sales.drop('Unnamed: 0',axis=1)\n",
    "df.head()"
   ]
  },
  {
   "cell_type": "code",
   "execution_count": null,
   "metadata": {},
   "outputs": [],
   "source": [
    "# Create figure\n",
    "plt.figure(figsize=(10, 6), dpi=300)\n",
    "# Create stacked area chart\n",
    "labels = sales.columns[2:]\n",
    "\n",
    "plt.stackplot(df['Quarter'].values, df.drop('Quarter',axis=1).T,labels=labels)\n",
    "# Add legend\n",
    "plt.legend()\n",
    "# Add labels and title\n",
    "plt.xlabel('Quarters')\n",
    "plt.ylabel('Sales units in thousands')\n",
    "plt.title('Smartphone sales units')"
   ]
  },
  {
   "cell_type": "markdown",
   "metadata": {},
   "source": [
    "<a id='histogram'></a>\n",
    "#  Histograms, Box plots and Violin plots "
   ]
  },
  {
   "cell_type": "markdown",
   "metadata": {},
   "source": [
    "## Histograms\n",
    "* A histogram is a representation of the distribution of data"
   ]
  },
  {
   "cell_type": "code",
   "execution_count": null,
   "metadata": {},
   "outputs": [],
   "source": [
    "gaus_data = np.random.normal(0,1,1000)"
   ]
  },
  {
   "cell_type": "code",
   "execution_count": null,
   "metadata": {},
   "outputs": [],
   "source": [
    "plt.figure(figsize=(6, 4), dpi=100)\n",
    "# Create histogram\n",
    "plt.hist(gaus_data, bins=20,range=(-5,5))\n",
    "plt.axvline(x=np.mean(gaus_data), color='yellow', label='mean')\n",
    "plt.axvline(x=np.percentile(gaus_data, 16), color='r', linestyle= '--', label='16th percentile')\n",
    "plt.axvline(x=np.percentile(gaus_data, 84), color='green', linestyle= '--', label='84th percentile')\n",
    "# Add labels and title\n",
    "plt.xlabel('random variable (x)')\n",
    "plt.ylabel('Frequency')\n",
    "plt.title('Plotting data from Gaussian distribution with mean 0 and Sigma 1')\n",
    "plt.legend()\n"
   ]
  },
  {
   "cell_type": "markdown",
   "metadata": {},
   "source": [
    "## Box Plots\n",
    "\n",
    "* A box plot (or box-and-whisker plot) shows the distribution of quantitative data in a way that facilitates comparisons between variables or across levels of a categorical variable. It gives five number summary (“minimum”, first quartile (Q1), median, third quartile (Q3), and “maximum”).\n"
   ]
  },
  {
   "cell_type": "markdown",
   "metadata": {},
   "source": [
    "<img src=\"img/Boxplot.png\" width=500, align=\"left\" />"
   ]
  },
  {
   "cell_type": "code",
   "execution_count": null,
   "metadata": {},
   "outputs": [],
   "source": [
    "plt.figure(figsize=(6, 4), dpi=100)\n",
    "# Create histogram\n",
    "plt.boxplot(gaus_data)\n",
    "# Add labels and title\n",
    "ax = plt.gca()\n",
    "ax.set_xticklabels(['Any name'])\n",
    "plt.ylabel('X')\n",
    "plt.title('Plotting Box plot of a random variable X')\n",
    "# Show plot\n",
    "plt.show()\n"
   ]
  },
  {
   "cell_type": "code",
   "execution_count": null,
   "metadata": {},
   "outputs": [],
   "source": [
    "# Generate some Normal distributions with different properties\n",
    "rands1 = np.random.normal(size=500)\n",
    "rands2 = np.random.normal(scale=2, size=500)\n",
    "rands3 = np.random.normal(loc=1, scale=0.5, size=500)"
   ]
  },
  {
   "cell_type": "code",
   "execution_count": null,
   "metadata": {},
   "outputs": [],
   "source": [
    "#Multy variable Box plot\n",
    "#data = np.random.normal(0,2,size=3000).reshape(1000,3)\n",
    "#coloumn_names = ['X','Y','Z']\n",
    "df = pd.DataFrame({'X':rands1, 'Y':rands2, 'Z':rands3} )"
   ]
  },
  {
   "cell_type": "code",
   "execution_count": null,
   "metadata": {},
   "outputs": [],
   "source": [
    "# Create figure\n",
    "plt.figure(figsize=(6, 4), dpi=100)\n",
    "# Create histogram\n",
    "plt.boxplot([df.X.values,df.Y.values, df.Z.values])\n",
    "# Add labels and title\n",
    "ax = plt.gca()\n",
    "ax.set_xticklabels(['Group X', 'Group Y', 'Group Z'])\n",
    "plt.ylabel('Values')\n",
    "plt.title('Multi Variable box plots')"
   ]
  },
  {
   "cell_type": "code",
   "execution_count": null,
   "metadata": {},
   "outputs": [],
   "source": [
    "# to make it more beautiful we can also use seaborn library\n",
    "plt.figure(dpi=100)\n",
    "# Set style\n",
    "sns.set_style('whitegrid')\n",
    "# Create boxplot\n",
    "sns.boxplot(data=df)\n",
    "# Despine\n",
    "sns.despine(left=True, right=True, top=True)\n",
    "\n",
    "#sns.boxplot(x = 'day', y = 'total_bill', data = tips) you can load data directly from sns library  \n"
   ]
  },
  {
   "cell_type": "markdown",
   "metadata": {},
   "source": [
    "if we don't want to show the interquartile range of data, but just the full distribution? We have a similar kind of plot called a violin plot for this."
   ]
  },
  {
   "cell_type": "markdown",
   "metadata": {},
   "source": [
    "## Violon Plots\n",
    "\n",
    "* A violin plot plays a similar role as a box and whisker plot. It shows the distribution of quantitative data across several levels of one (or more) categorical variables such that those distributions can be compared. Unlike a box plot, in which all of the plot components correspond to actual datapoints, the violin plot features a kernel density estimation of the underlying distribution"
   ]
  },
  {
   "cell_type": "code",
   "execution_count": null,
   "metadata": {},
   "outputs": [],
   "source": [
    "# to make it more beautiful we can also use seaborn library\n",
    "plt.figure(dpi=100)\n",
    "# Set style\n",
    "sns.set_style('whitegrid')\n",
    "# Create boxplot\n",
    "sns.violinplot(data=df)\n",
    "# Despine\n",
    "sns.despine(left=True, right=True, top=True)\n",
    "\n",
    "#sns.boxplot(x = 'day', y = 'total_bill', data = tips) you can load data directly from sns library"
   ]
  },
  {
   "cell_type": "markdown",
   "metadata": {},
   "source": [
    "<a id='3dplots'></a>\n",
    "# 3D plots"
   ]
  },
  {
   "cell_type": "code",
   "execution_count": null,
   "metadata": {},
   "outputs": [],
   "source": [
    "fig = plt.figure(figsize=(8,6))\n",
    "ax = fig.add_subplot(111, projection='3d')\n",
    "p = ax.scatter(rands1,rands2,rands3, c = rands3)\n",
    "cbar = fig.colorbar(p)\n",
    "ax.set_xlabel('X')\n",
    "ax.set_ylabel('Y')\n",
    "ax.set_zlabel('Z')\n",
    "cbar.set_label(\"Z Values\")"
   ]
  },
  {
   "cell_type": "code",
   "execution_count": null,
   "metadata": {},
   "outputs": [],
   "source": [
    "def f(x, y):\n",
    "    return (x ** 2 + y ** 2)\n",
    "\n",
    "x = np.linspace(-6, 6, 30)\n",
    "y = np.linspace(-6, 6, 30)\n",
    "\n",
    "X, Y = np.meshgrid(x, y)\n",
    "Z = f(X, Y)\n",
    "\n",
    "fig = plt.figure(figsize=(8,8))\n",
    "ax = plt.axes(projection='3d')\n",
    "ax.plot_surface(X, Y, Z, rstride=1, cstride=1,\n",
    "                cmap='viridis', edgecolor='none')\n",
    "ax.set_title('surface');\n",
    "ax.set_xlabel('X')\n",
    "ax.set_ylabel('Y')\n",
    "ax.set_zlabel('Z')"
   ]
  },
  {
   "cell_type": "markdown",
   "metadata": {},
   "source": [
    "<a id='correlation'></a>\n",
    "# Plotting correlation between variables "
   ]
  },
  {
   "cell_type": "code",
   "execution_count": null,
   "metadata": {},
   "outputs": [],
   "source": [
    "sns.heatmap(df.corr(), cmap=sns.light_palette(\"orange\", as_cmap=True, reverse=True))\n",
    "plt.title(\"Checking correlation between variables\")\n"
   ]
  },
  {
   "cell_type": "markdown",
   "metadata": {},
   "source": [
    "### It is clear from the above plot that the correlation of a variable with itself is 1 and correlation across the varaibles, for instance between (x,y) or (x,z) is close is zero. This make sense since the random data I created was not correlated at all. \n",
    "\n",
    "#### lets take another example you make more sense how can weuse heat map to plot thigs"
   ]
  },
  {
   "cell_type": "code",
   "execution_count": null,
   "metadata": {},
   "outputs": [],
   "source": [
    "flight_details = pd.read_csv('datafiles/flight_details.csv')"
   ]
  },
  {
   "cell_type": "code",
   "execution_count": null,
   "metadata": {},
   "outputs": [],
   "source": [
    "flight_details.head()"
   ]
  },
  {
   "cell_type": "code",
   "execution_count": null,
   "metadata": {},
   "outputs": [],
   "source": [
    "pivot_data = flight_details.pivot(index='Months', columns='Years', values='Passengers')"
   ]
  },
  {
   "cell_type": "code",
   "execution_count": null,
   "metadata": {},
   "outputs": [],
   "source": [
    "sns.heatmap(pivot_data, cmap=sns.light_palette(\"orange\", as_cmap=True, reverse=True))\n",
    "plt.title(\"Flight Passengers from 2001 to 2012\")\n",
    "#plt.xlabel(\"Years\")\n",
    "#plt.ylabel(\"Months\")\n",
    "plt.show()"
   ]
  },
  {
   "cell_type": "markdown",
   "metadata": {},
   "source": [
    "<a id='bar'></a>\n",
    "#  Bar Plots \n",
    "* A bar plot is a plot that presents categorical data with rectangular bars with lengths proportional to the values that they represent. \n",
    "* A bar plot shows comparisons among discrete categories. One axis of the plot shows the specific categories being compared, and the other axis represents a measured value."
   ]
  },
  {
   "cell_type": "code",
   "execution_count": null,
   "metadata": {},
   "outputs": [],
   "source": [
    "youtube_views = pd.read_csv('datafiles/youtube.csv')"
   ]
  },
  {
   "cell_type": "code",
   "execution_count": null,
   "metadata": {},
   "outputs": [],
   "source": [
    "youtube_views.head()"
   ]
  },
  {
   "cell_type": "code",
   "execution_count": null,
   "metadata": {},
   "outputs": [],
   "source": [
    "fig, (ax1,ax2) = plt.subplots(nrows=1, ncols=2, sharey=True, figsize=(12, 8), dpi=50)\n",
    "sns.barplot(x=\"subs\", y=\"channels\", data=youtube_views, palette=\"Blues_d\", ax=ax1)\n",
    "sns.barplot(x=\"views\", y=\"channels\", data=youtube_views, palette=\"Blues_d\", ax=ax2)"
   ]
  },
  {
   "cell_type": "code",
   "execution_count": null,
   "metadata": {},
   "outputs": [],
   "source": [
    "# let us load another datasets\n",
    "olymic_data = pd.read_csv('datafiles/olympia2016_athletes.csv')"
   ]
  },
  {
   "cell_type": "code",
   "execution_count": null,
   "metadata": {},
   "outputs": [],
   "source": [
    "olymic_data.head()"
   ]
  },
  {
   "cell_type": "code",
   "execution_count": null,
   "metadata": {},
   "outputs": [],
   "source": [
    "df = olymic_data.groupby(['sex'])[\"gold\", \"silver\", \"bronze\"].sum()\n",
    "df.reset_index(inplace=True)"
   ]
  },
  {
   "cell_type": "code",
   "execution_count": null,
   "metadata": {},
   "outputs": [],
   "source": [
    "fig, ax1 = plt.subplots(nrows=1, ncols=1, figsize=(5, 5), dpi=100)\n",
    "df.plot.bar(x='sex',y=['gold','silver','bronze'], ax=ax1)"
   ]
  },
  {
   "cell_type": "markdown",
   "metadata": {},
   "source": [
    "<a id='interactive'></a>\n",
    "# Interactive plotting with ipywidgets\n",
    "\n",
    "* One can avoid re-running the cell again if you want to change some parameters\n",
    "* Perfect for exploring and visualizing data."
   ]
  },
  {
   "cell_type": "code",
   "execution_count": null,
   "metadata": {},
   "outputs": [],
   "source": [
    "def get_random_color():\n",
    "    return '%06x' % random.randint(0, 0xFFFFFF)"
   ]
  },
  {
   "cell_type": "code",
   "execution_count": null,
   "metadata": {},
   "outputs": [],
   "source": [
    "def interact_plots(sex='male',col='weight'):\n",
    "    col = col\n",
    "    val = olymic_data[olymic_data['sex']==sex][col].values\n",
    "    val=val[~np.isnan(val)]\n",
    "    color = '#'+get_random_color()\n",
    "    ax = sns.distplot(val,color=color,label=sex)\n",
    "    ax.set(xlabel=col, ylabel='frequency')\n",
    "    ax.legend()\n",
    "    return ax"
   ]
  },
  {
   "cell_type": "code",
   "execution_count": null,
   "metadata": {},
   "outputs": [],
   "source": [
    "interact(interact_plots,sex=['male','female'],col=['weight','height'])"
   ]
  },
  {
   "cell_type": "markdown",
   "metadata": {},
   "source": [
    "# References\n",
    "* https://seaborn.pydata.org/introduction.html\n",
    "* https://pandas.pydata.org/\n",
    "* https://matplotlib.org/"
   ]
  },
  {
   "cell_type": "code",
   "execution_count": null,
   "metadata": {},
   "outputs": [],
   "source": []
  }
 ],
 "metadata": {
  "kernelspec": {
   "display_name": "Python 3",
   "language": "python",
   "name": "python3"
  },
  "language_info": {
   "codemirror_mode": {
    "name": "ipython",
    "version": 3
   },
   "file_extension": ".py",
   "mimetype": "text/x-python",
   "name": "python",
   "nbconvert_exporter": "python",
   "pygments_lexer": "ipython3",
   "version": "3.7.4"
  },
  "toc": {
   "base_numbering": 1,
   "nav_menu": {},
   "number_sections": true,
   "sideBar": true,
   "skip_h1_title": false,
   "title_cell": "Table of Contents",
   "title_sidebar": "Contents",
   "toc_cell": false,
   "toc_position": {},
   "toc_section_display": true,
   "toc_window_display": false
  },
  "widgets": {
   "application/vnd.jupyter.widget-state+json": {
    "state": {
     "13d9c8bb7d1545b58a29675b1d5905b5": {
      "model_module": "@jupyter-widgets/controls",
      "model_module_version": "1.5.0",
      "model_name": "DescriptionStyleModel",
      "state": {
       "_model_module": "@jupyter-widgets/controls",
       "_model_module_version": "1.5.0",
       "_model_name": "DescriptionStyleModel",
       "_view_count": null,
       "_view_module": "@jupyter-widgets/base",
       "_view_module_version": "1.2.0",
       "_view_name": "StyleView",
       "description_width": ""
      }
     },
     "5509c24a3f664c68b79573c6acd9846d": {
      "model_module": "@jupyter-widgets/base",
      "model_module_version": "1.2.0",
      "model_name": "LayoutModel",
      "state": {
       "_model_module": "@jupyter-widgets/base",
       "_model_module_version": "1.2.0",
       "_model_name": "LayoutModel",
       "_view_count": null,
       "_view_module": "@jupyter-widgets/base",
       "_view_module_version": "1.2.0",
       "_view_name": "LayoutView",
       "align_content": null,
       "align_items": null,
       "align_self": null,
       "border": null,
       "bottom": null,
       "display": null,
       "flex": null,
       "flex_flow": null,
       "grid_area": null,
       "grid_auto_columns": null,
       "grid_auto_flow": null,
       "grid_auto_rows": null,
       "grid_column": null,
       "grid_gap": null,
       "grid_row": null,
       "grid_template_areas": null,
       "grid_template_columns": null,
       "grid_template_rows": null,
       "height": null,
       "justify_content": null,
       "justify_items": null,
       "left": null,
       "margin": null,
       "max_height": null,
       "max_width": null,
       "min_height": null,
       "min_width": null,
       "object_fit": null,
       "object_position": null,
       "order": null,
       "overflow": null,
       "overflow_x": null,
       "overflow_y": null,
       "padding": null,
       "right": null,
       "top": null,
       "visibility": null,
       "width": null
      }
     },
     "76e074e732004de3a97fefee1162e1ef": {
      "model_module": "@jupyter-widgets/controls",
      "model_module_version": "1.5.0",
      "model_name": "DescriptionStyleModel",
      "state": {
       "_model_module": "@jupyter-widgets/controls",
       "_model_module_version": "1.5.0",
       "_model_name": "DescriptionStyleModel",
       "_view_count": null,
       "_view_module": "@jupyter-widgets/base",
       "_view_module_version": "1.2.0",
       "_view_name": "StyleView",
       "description_width": ""
      }
     },
     "905ef20b7a2345ad88a7faeb831a9952": {
      "model_module": "@jupyter-widgets/controls",
      "model_module_version": "1.5.0",
      "model_name": "VBoxModel",
      "state": {
       "_dom_classes": [
        "widget-interact"
       ],
       "_model_module": "@jupyter-widgets/controls",
       "_model_module_version": "1.5.0",
       "_model_name": "VBoxModel",
       "_view_count": null,
       "_view_module": "@jupyter-widgets/controls",
       "_view_module_version": "1.5.0",
       "_view_name": "VBoxView",
       "box_style": "",
       "children": [
        "IPY_MODEL_b8d060094bc042bb81aae20e0d4e97d5",
        "IPY_MODEL_fe3201eed2334022948411a40e3278e9",
        "IPY_MODEL_ee70e7b6bd9f459da20283ed2eac696e"
       ],
       "layout": "IPY_MODEL_963cd5a32b2f43ab952e95884c3dc4ad"
      }
     },
     "963cd5a32b2f43ab952e95884c3dc4ad": {
      "model_module": "@jupyter-widgets/base",
      "model_module_version": "1.2.0",
      "model_name": "LayoutModel",
      "state": {
       "_model_module": "@jupyter-widgets/base",
       "_model_module_version": "1.2.0",
       "_model_name": "LayoutModel",
       "_view_count": null,
       "_view_module": "@jupyter-widgets/base",
       "_view_module_version": "1.2.0",
       "_view_name": "LayoutView",
       "align_content": null,
       "align_items": null,
       "align_self": null,
       "border": null,
       "bottom": null,
       "display": null,
       "flex": null,
       "flex_flow": null,
       "grid_area": null,
       "grid_auto_columns": null,
       "grid_auto_flow": null,
       "grid_auto_rows": null,
       "grid_column": null,
       "grid_gap": null,
       "grid_row": null,
       "grid_template_areas": null,
       "grid_template_columns": null,
       "grid_template_rows": null,
       "height": null,
       "justify_content": null,
       "justify_items": null,
       "left": null,
       "margin": null,
       "max_height": null,
       "max_width": null,
       "min_height": null,
       "min_width": null,
       "object_fit": null,
       "object_position": null,
       "order": null,
       "overflow": null,
       "overflow_x": null,
       "overflow_y": null,
       "padding": null,
       "right": null,
       "top": null,
       "visibility": null,
       "width": null
      }
     },
     "b8d060094bc042bb81aae20e0d4e97d5": {
      "model_module": "@jupyter-widgets/controls",
      "model_module_version": "1.5.0",
      "model_name": "DropdownModel",
      "state": {
       "_dom_classes": [],
       "_model_module": "@jupyter-widgets/controls",
       "_model_module_version": "1.5.0",
       "_model_name": "DropdownModel",
       "_options_labels": [
        "male",
        "female"
       ],
       "_view_count": null,
       "_view_module": "@jupyter-widgets/controls",
       "_view_module_version": "1.5.0",
       "_view_name": "DropdownView",
       "description": "sex",
       "description_tooltip": null,
       "disabled": false,
       "index": 0,
       "layout": "IPY_MODEL_bc7265a402d34979a477f859631d8794",
       "style": "IPY_MODEL_76e074e732004de3a97fefee1162e1ef"
      }
     },
     "bc7265a402d34979a477f859631d8794": {
      "model_module": "@jupyter-widgets/base",
      "model_module_version": "1.2.0",
      "model_name": "LayoutModel",
      "state": {
       "_model_module": "@jupyter-widgets/base",
       "_model_module_version": "1.2.0",
       "_model_name": "LayoutModel",
       "_view_count": null,
       "_view_module": "@jupyter-widgets/base",
       "_view_module_version": "1.2.0",
       "_view_name": "LayoutView",
       "align_content": null,
       "align_items": null,
       "align_self": null,
       "border": null,
       "bottom": null,
       "display": null,
       "flex": null,
       "flex_flow": null,
       "grid_area": null,
       "grid_auto_columns": null,
       "grid_auto_flow": null,
       "grid_auto_rows": null,
       "grid_column": null,
       "grid_gap": null,
       "grid_row": null,
       "grid_template_areas": null,
       "grid_template_columns": null,
       "grid_template_rows": null,
       "height": null,
       "justify_content": null,
       "justify_items": null,
       "left": null,
       "margin": null,
       "max_height": null,
       "max_width": null,
       "min_height": null,
       "min_width": null,
       "object_fit": null,
       "object_position": null,
       "order": null,
       "overflow": null,
       "overflow_x": null,
       "overflow_y": null,
       "padding": null,
       "right": null,
       "top": null,
       "visibility": null,
       "width": null
      }
     },
     "c2a881d1bfaf4eda9bbe6b0ca9cdd7ea": {
      "model_module": "@jupyter-widgets/base",
      "model_module_version": "1.2.0",
      "model_name": "LayoutModel",
      "state": {
       "_model_module": "@jupyter-widgets/base",
       "_model_module_version": "1.2.0",
       "_model_name": "LayoutModel",
       "_view_count": null,
       "_view_module": "@jupyter-widgets/base",
       "_view_module_version": "1.2.0",
       "_view_name": "LayoutView",
       "align_content": null,
       "align_items": null,
       "align_self": null,
       "border": null,
       "bottom": null,
       "display": null,
       "flex": null,
       "flex_flow": null,
       "grid_area": null,
       "grid_auto_columns": null,
       "grid_auto_flow": null,
       "grid_auto_rows": null,
       "grid_column": null,
       "grid_gap": null,
       "grid_row": null,
       "grid_template_areas": null,
       "grid_template_columns": null,
       "grid_template_rows": null,
       "height": null,
       "justify_content": null,
       "justify_items": null,
       "left": null,
       "margin": null,
       "max_height": null,
       "max_width": null,
       "min_height": null,
       "min_width": null,
       "object_fit": null,
       "object_position": null,
       "order": null,
       "overflow": null,
       "overflow_x": null,
       "overflow_y": null,
       "padding": null,
       "right": null,
       "top": null,
       "visibility": null,
       "width": null
      }
     },
     "ee70e7b6bd9f459da20283ed2eac696e": {
      "model_module": "@jupyter-widgets/output",
      "model_module_version": "1.0.0",
      "model_name": "OutputModel",
      "state": {
       "_dom_classes": [],
       "_model_module": "@jupyter-widgets/output",
       "_model_module_version": "1.0.0",
       "_model_name": "OutputModel",
       "_view_count": null,
       "_view_module": "@jupyter-widgets/output",
       "_view_module_version": "1.0.0",
       "_view_name": "OutputView",
       "layout": "IPY_MODEL_5509c24a3f664c68b79573c6acd9846d",
       "msg_id": "",
       "outputs": []
      }
     },
     "fe3201eed2334022948411a40e3278e9": {
      "model_module": "@jupyter-widgets/controls",
      "model_module_version": "1.5.0",
      "model_name": "DropdownModel",
      "state": {
       "_dom_classes": [],
       "_model_module": "@jupyter-widgets/controls",
       "_model_module_version": "1.5.0",
       "_model_name": "DropdownModel",
       "_options_labels": [
        "weight",
        "height"
       ],
       "_view_count": null,
       "_view_module": "@jupyter-widgets/controls",
       "_view_module_version": "1.5.0",
       "_view_name": "DropdownView",
       "description": "col",
       "description_tooltip": null,
       "disabled": false,
       "index": 0,
       "layout": "IPY_MODEL_c2a881d1bfaf4eda9bbe6b0ca9cdd7ea",
       "style": "IPY_MODEL_13d9c8bb7d1545b58a29675b1d5905b5"
      }
     }
    },
    "version_major": 2,
    "version_minor": 0
   }
  }
 },
 "nbformat": 4,
 "nbformat_minor": 4
}
