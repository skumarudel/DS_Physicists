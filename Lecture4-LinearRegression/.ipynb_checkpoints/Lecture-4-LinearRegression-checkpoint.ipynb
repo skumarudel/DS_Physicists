{
 "cells": [
  {
   "cell_type": "markdown",
   "metadata": {},
   "source": [
    "# Introduction to Linear Regression\n",
    "\n",
    "* Regression analysis is likely the first and simplest of all of predictive models we would use in this course\n",
    "* It estimates the relationship between a dependent variable we can also call it as target & an independent variable which is also known as predictor\n",
    "* First published in early 1800s by Legrendre and Gauss\n",
    "* Regression was coined by Francis Galton (cousin of Charles Darwin) to describe the biological process of extreme values moving towards population mean\n",
    "* It can be classified as a supervised learning algorithms\n",
    "* Very easy to interpret\n",
    "* It is also called least square method  "
   ]
  },
  {
   "cell_type": "markdown",
   "metadata": {},
   "source": [
    "# Table of Content\n",
    "<ul>\n",
    "    <li> <a href=\"#fakedata\"> Creating Data </a> </li>\n",
    "    <li> <a href=\"#fitting\"> Model Fitting </a> </li>\n",
    "    <li> <a href=\"#evaluation\"> Model Evaluation (R-Square value) </a> </li>\n",
    "    <li> <a href=\"#assumtions\"> Assumptions of linear regression</a> </li>  \n",
    "</ul>"
   ]
  },
  {
   "cell_type": "markdown",
   "metadata": {},
   "source": [
    "Lets import all the necessary python libraries"
   ]
  },
  {
   "cell_type": "code",
   "execution_count": 19,
   "metadata": {},
   "outputs": [],
   "source": [
    "import sys\n",
    "import re\n",
    "import numpy as np\n",
    "from scipy import stats, polyfit\n",
    "import pandas as pd\n",
    "import matplotlib.pyplot as plt\n",
    "import seaborn as sns\n",
    "from sklearn.utils import resample\n",
    "from ipywidgets import interact, interactive, fixed, interact_manual\n",
    "import ipywidgets as widgets\n",
    "import warnings\n",
    "warnings.simplefilter(\"ignore\")"
   ]
  },
  {
   "cell_type": "markdown",
   "metadata": {},
   "source": [
    "<a id='fakedata'></a>\n",
    "# Creating Data\n",
    "* we will create a some fake height vs weight data"
   ]
  },
  {
   "cell_type": "code",
   "execution_count": 20,
   "metadata": {},
   "outputs": [],
   "source": [
    "height = np.random.uniform(40,75, 20)\n",
    "beta0 = 10\n",
    "beta1 = 2\n",
    "weight = beta0 + beta1*height\n",
    "\n",
    "# Add some random error\n",
    "\n",
    "weight  = weight + np.random.normal(0,10, len(height))\n"
   ]
  },
  {
   "cell_type": "markdown",
   "metadata": {},
   "source": [
    "Create a dataframe for easy view"
   ]
  },
  {
   "cell_type": "code",
   "execution_count": 21,
   "metadata": {},
   "outputs": [
    {
     "data": {
      "text/html": [
       "<div>\n",
       "<style scoped>\n",
       "    .dataframe tbody tr th:only-of-type {\n",
       "        vertical-align: middle;\n",
       "    }\n",
       "\n",
       "    .dataframe tbody tr th {\n",
       "        vertical-align: top;\n",
       "    }\n",
       "\n",
       "    .dataframe thead th {\n",
       "        text-align: right;\n",
       "    }\n",
       "</style>\n",
       "<table border=\"1\" class=\"dataframe\">\n",
       "  <thead>\n",
       "    <tr style=\"text-align: right;\">\n",
       "      <th></th>\n",
       "      <th>Height</th>\n",
       "      <th>Weight</th>\n",
       "    </tr>\n",
       "  </thead>\n",
       "  <tbody>\n",
       "    <tr>\n",
       "      <th>0</th>\n",
       "      <td>62.5</td>\n",
       "      <td>129.7</td>\n",
       "    </tr>\n",
       "    <tr>\n",
       "      <th>1</th>\n",
       "      <td>63.9</td>\n",
       "      <td>133.4</td>\n",
       "    </tr>\n",
       "    <tr>\n",
       "      <th>2</th>\n",
       "      <td>40.7</td>\n",
       "      <td>80.8</td>\n",
       "    </tr>\n",
       "    <tr>\n",
       "      <th>3</th>\n",
       "      <td>50.0</td>\n",
       "      <td>118.6</td>\n",
       "    </tr>\n",
       "    <tr>\n",
       "      <th>4</th>\n",
       "      <td>56.8</td>\n",
       "      <td>124.5</td>\n",
       "    </tr>\n",
       "    <tr>\n",
       "      <th>5</th>\n",
       "      <td>49.8</td>\n",
       "      <td>99.0</td>\n",
       "    </tr>\n",
       "    <tr>\n",
       "      <th>6</th>\n",
       "      <td>64.7</td>\n",
       "      <td>135.5</td>\n",
       "    </tr>\n",
       "    <tr>\n",
       "      <th>7</th>\n",
       "      <td>54.5</td>\n",
       "      <td>124.6</td>\n",
       "    </tr>\n",
       "    <tr>\n",
       "      <th>8</th>\n",
       "      <td>68.9</td>\n",
       "      <td>151.3</td>\n",
       "    </tr>\n",
       "    <tr>\n",
       "      <th>9</th>\n",
       "      <td>61.7</td>\n",
       "      <td>122.5</td>\n",
       "    </tr>\n",
       "  </tbody>\n",
       "</table>\n",
       "</div>"
      ],
      "text/plain": [
       "   Height  Weight\n",
       "0    62.5   129.7\n",
       "1    63.9   133.4\n",
       "2    40.7    80.8\n",
       "3    50.0   118.6\n",
       "4    56.8   124.5\n",
       "5    49.8    99.0\n",
       "6    64.7   135.5\n",
       "7    54.5   124.6\n",
       "8    68.9   151.3\n",
       "9    61.7   122.5"
      ]
     },
     "execution_count": 21,
     "metadata": {},
     "output_type": "execute_result"
    }
   ],
   "source": [
    "df = pd.DataFrame({'Height':height, 'Weight':weight})\n",
    "df = df.round(1)\n",
    "df.head(10)"
   ]
  },
  {
   "cell_type": "code",
   "execution_count": 22,
   "metadata": {},
   "outputs": [
    {
     "data": {
      "text/plain": [
       "Text(0, 0.5, 'Weight [Pounds]')"
      ]
     },
     "execution_count": 22,
     "metadata": {},
     "output_type": "execute_result"
    },
    {
     "data": {
      "image/png": "[encoded data removed]",
      "text/plain": [
       "<Figure size 360x360 with 1 Axes>"
      ]
     },
     "metadata": {
      "needs_background": "light"
     },
     "output_type": "display_data"
    }
   ],
   "source": [
    "fig,axes = plt.subplots(figsize=(5,5))\n",
    "plt.plot(height,weight, linestyle='', marker='o')\n",
    "plt.xlabel('Height [inches]')\n",
    "plt.ylabel('Weight [Pounds]')"
   ]
  },
  {
   "cell_type": "markdown",
   "metadata": {},
   "source": [
    "<a id='fitting'></a>\n",
    "# Model Fitting\n",
    "* Method of least square fitting\n",
    "* Method determines the best line which minimizes the total of the square of the errors between the line and data points as small as possible"
   ]
  },
  {
   "cell_type": "markdown",
   "metadata": {},
   "source": [
    "<img src=\"img/least-squares2.svg\" width=300, align=\"center\" />"
   ]
  },
  {
   "cell_type": "markdown",
   "metadata": {},
   "source": [
    "## Mathematics for least square fitting"
   ]
  },
  {
   "cell_type": "markdown",
   "metadata": {},
   "source": [
    "The standard notation is:\n",
    "\n",
    "$$y^{model} = \\beta_{0} + \\beta_{1}x$$\n",
    "\n",
    "where $\\beta_{0}$, $\\beta_{1}$ are regression coefficients we need to determine\n",
    "\n",
    "Lets us define the error as;\n",
    "\n",
    "$$e_{i} = y_{i}^{actual} - y_{i}^{model}$$ \n",
    "\n",
    "From this error definition, we can find the expression for square of error terms for all data points as:\n",
    "\n",
    "$$\\sum\\limits_{i=1}^n e_{i}^2 = \\sum\\limits_{i=1}^n (y_{i}^{actual} - y_{i}^{model})^2 = \\sum\\limits_{i=1}^n (y_{i}^{actual} - (\\beta_{0} + \\beta_{1}x_{i}))^2$$\n",
    "\n",
    "We minimize the above expression with respect to $\\beta_{0}$ and $\\beta_{1}$, setting the derivative to zero. From there we can calculate the values of our regression coefficients.\n",
    "\n",
    "$$\\frac{\\partial }{\\partial \\beta_{0}} \\sum\\limits_{i=1}^n (y_{i}^{actual} - (\\beta_{0} + \\beta_{1}x_{i}))^2 = 0$$\n",
    "\n",
    "$$\\frac{\\partial }{\\partial \\beta_{1}} \\sum\\limits_{i=1}^n (y_{i}^{actual} - (\\beta_{0} + \\beta_{1}x_{i}))^2 = 0$$\n",
    "\n",
    "\n",
    "    "
   ]
  },
  {
   "cell_type": "markdown",
   "metadata": {},
   "source": [
    "## <font color='red'>Assigment related to Least Square method</font>\n",
    "1. Find the value of $\\beta_{0}$ and $\\beta_{1}$ from the above expression. That will be the analytical solution to the regression coefficients. "
   ]
  },
  {
   "cell_type": "markdown",
   "metadata": {},
   "source": [
    "## <font color='black'>Lets us build our model using numpy polyfit routine which calculate the best fit line based on least square fitting method</font>"
   ]
  },
  {
   "cell_type": "code",
   "execution_count": 23,
   "metadata": {},
   "outputs": [
    {
     "name": "stdout",
     "output_type": "stream",
     "text": [
      "beta0 = -9.2 +/- 13 , beta1 = 2.27 +/- 0.22 \n",
      "Actual value\n",
      "beta0 = 10, beta1 = 2.00\n"
     ]
    }
   ],
   "source": [
    "parameters, cov_matrix = np.polyfit(df['Height'], df['Weight'], 1, cov=True)\n",
    "intercept, intercept_error = parameters[1], np.sqrt(cov_matrix[1][1])\n",
    "slope, slope_error = parameters[0], np.sqrt(cov_matrix[0][0])\n",
    "\n",
    "print(\"beta0 = {:.2g} +/- {:.2g} , beta1 = {:.2f} +/- {:.2g} \".format(intercept, intercept_error,slope, slope_error))\n",
    "\n",
    "print(\"Actual value\")\n",
    "\n",
    "print(\"beta0 = {:.2g}, beta1 = {:.2f}\".format(beta0, beta1))\n"
   ]
  },
  {
   "cell_type": "code",
   "execution_count": 24,
   "metadata": {},
   "outputs": [],
   "source": [
    "x_min, x_max = np.min(df['Height']), np.max(df['Height'])\n",
    "x = np.linspace(x_min-5,x_max+5,100)"
   ]
  },
  {
   "cell_type": "code",
   "execution_count": 25,
   "metadata": {},
   "outputs": [
    {
     "data": {
      "text/plain": [
       "Text(0, 0.5, 'Weight(Y)')"
      ]
     },
     "execution_count": 25,
     "metadata": {},
     "output_type": "execute_result"
    },
    {
     "data": {
      "image/png": "[encoded data removed]",
      "text/plain": [
       "<Figure size 576x576 with 1 Axes>"
      ]
     },
     "metadata": {
      "needs_background": "light"
     },
     "output_type": "display_data"
    }
   ],
   "source": [
    "fig,axes = plt.subplots(figsize=(8,8))\n",
    "plt.plot(df['Height'], df['Weight'], marker='o', linestyle='none', label='Data')\n",
    "plt.plot(x, x*slope + intercept, label=\"slope={:.2g}, intercept={:.2f}\".format(slope, intercept))\n",
    "plt.legend()\n",
    "plt.xlabel('Height')\n",
    "plt.ylabel('Weight(Y)')"
   ]
  },
  {
   "cell_type": "markdown",
   "metadata": {},
   "source": [
    "## <font color='red'>Assigment related to model fitting</font>\n",
    "1. Compare the value of $\\beta_{0}$ and $\\beta_{1}$ from your calculation to the value calculated by the standard libraries"
   ]
  },
  {
   "cell_type": "markdown",
   "metadata": {},
   "source": [
    "<a id='evaluation'></a>\n",
    "# Model Evaluation (or Model Goodness)"
   ]
  },
  {
   "cell_type": "markdown",
   "metadata": {},
   "source": [
    "## R-Squared value\n",
    "* R-Square value: the proportion of the variance in the dependent variable that is predictable from the independent variable.In other words, It is a statistical measure of how close the data are to the fitted regression line.\n",
    "* The best regression line we can get when R-Square is 1"
   ]
  },
  {
   "cell_type": "markdown",
   "metadata": {},
   "source": [
    "\n",
    "$$R^{2} = \\frac{\\sum\\limits_{i=1}^n (y^{model} - y^{mean})^2}{\\sum\\limits_{i=1}^n (y^{actual} - y^{mean})^2}$$"
   ]
  },
  {
   "cell_type": "code",
   "execution_count": 8,
   "metadata": {},
   "outputs": [],
   "source": [
    "def r2_score(x,y,parameters):\n",
    "    ybar = np.mean(y)\n",
    "    ymodel = parameters[0]*x + parameters[1]\n",
    "    ssreg = np.sum((ymodel-ybar)**2)\n",
    "    sstot = np.sum((y - ybar)**2)\n",
    "    \n",
    "    return (ssreg / sstot)\n",
    "    "
   ]
  },
  {
   "cell_type": "code",
   "execution_count": 9,
   "metadata": {},
   "outputs": [
    {
     "name": "stdout",
     "output_type": "stream",
     "text": [
      "R-Sqaure value from our calculation = 0.80\n"
     ]
    }
   ],
   "source": [
    "print(\"R-Sqaure value from our calculation = {:.2f}\".format(r2_score(height, weight, parameters)))"
   ]
  },
  {
   "cell_type": "markdown",
   "metadata": {},
   "source": [
    "Lets us compare this value with the standard package "
   ]
  },
  {
   "cell_type": "code",
   "execution_count": 10,
   "metadata": {},
   "outputs": [
    {
     "name": "stdout",
     "output_type": "stream",
     "text": [
      "R-squared from standard package: 0.806\n"
     ]
    }
   ],
   "source": [
    "slope, intercept, r_value, p_value, std_err = stats.linregress(height, weight)\n",
    "print(\"R-squared from standard package: {:.3f}\".format(r_value**2))"
   ]
  },
  {
   "cell_type": "markdown",
   "metadata": {},
   "source": [
    "## Residual Plot\n",
    "* The residual plot is the most important plot to review the acceptance of prediction from linear regression model\n",
    "* A proper residual plot will look like a random scatter of points around zero"
   ]
  },
  {
   "cell_type": "code",
   "execution_count": 11,
   "metadata": {},
   "outputs": [
    {
     "data": {
      "text/plain": [
       "Text(0.5, 1.0, 'Residual plot')"
      ]
     },
     "execution_count": 11,
     "metadata": {},
     "output_type": "execute_result"
    },
    {
     "data": {
      "image/png": "[encoded data removed]",
      "text/plain": [
       "<Figure size 864x432 with 2 Axes>"
      ]
     },
     "metadata": {
      "needs_background": "light"
     },
     "output_type": "display_data"
    }
   ],
   "source": [
    "fig,axes = plt.subplots(1,2,figsize=(12,6))\n",
    "sns.regplot(x='Height', y='Weight', data=df, ax = axes[0])\n",
    "sns.residplot(x='Height', y='Weight', data=df, ax = axes[1])\n",
    "\n",
    "axes[0].set_title('Regression plot')\n",
    "axes[1].set_title('Residual plot')"
   ]
  },
  {
   "cell_type": "markdown",
   "metadata": {},
   "source": [
    "## <font color='red'>Assigment related to model evaluation</font>\n",
    "1. Write a function for reduced R-Squared value. \n",
    "2. Explain why Reduced R-Squared (or Adjusted R-Squared) is a better measure for model goodness than R-Squared\n",
    "3. Write a plot function to plot the residual plot and compare it with above plot. Do you see the same plot from your own function\n"
   ]
  },
  {
   "cell_type": "markdown",
   "metadata": {},
   "source": [
    "<a id='assumptions'></a>\n",
    "# Assumptions of linear regression\n",
    "* There should not be a measurement error in the observed values of the target and each input variable.\n",
    "* The relationship between the dependent variable and all of indepenent variables are linear\n",
    "* The observations should be independent\n",
    "* The variance of the target variable should be constant (Homoscedasticity)\n",
    "* Outlier should be treated properly, otherwise it will biased your model"
   ]
  },
  {
   "cell_type": "markdown",
   "metadata": {},
   "source": [
    "## Violation of Homoscedasticity\n",
    "The residual plot is good way to check whether the data are homoscedastic (meaning the residuals are equal across the regression line).  The following scatter plots show examples of data that are not homoscedastic"
   ]
  },
  {
   "cell_type": "markdown",
   "metadata": {},
   "source": [
    "<img src=\"img/homoscedasticity.png\" width=500, align=\"center\" />"
   ]
  },
  {
   "cell_type": "code",
   "execution_count": 12,
   "metadata": {},
   "outputs": [],
   "source": [
    "height = np.random.uniform(40,75, 100)\n",
    "beta0 = 10\n",
    "beta1 = 2\n",
    "weight = beta0 + beta1*height\n",
    "\n",
    "# Add some random error\n",
    "new_weight = np.zeros(len(height))\n",
    "for i in range(len(height)):\n",
    "    variance = int(weight[i] / 20)\n",
    "    \n",
    "    new_weight[i]  = weight[i] + np.random.normal(0,variance**4)\n"
   ]
  },
  {
   "cell_type": "code",
   "execution_count": 13,
   "metadata": {},
   "outputs": [
    {
     "data": {
      "text/html": [
       "<div>\n",
       "<style scoped>\n",
       "    .dataframe tbody tr th:only-of-type {\n",
       "        vertical-align: middle;\n",
       "    }\n",
       "\n",
       "    .dataframe tbody tr th {\n",
       "        vertical-align: top;\n",
       "    }\n",
       "\n",
       "    .dataframe thead th {\n",
       "        text-align: right;\n",
       "    }\n",
       "</style>\n",
       "<table border=\"1\" class=\"dataframe\">\n",
       "  <thead>\n",
       "    <tr style=\"text-align: right;\">\n",
       "      <th></th>\n",
       "      <th>Height</th>\n",
       "      <th>Weight</th>\n",
       "    </tr>\n",
       "  </thead>\n",
       "  <tbody>\n",
       "    <tr>\n",
       "      <th>0</th>\n",
       "      <td>40.9</td>\n",
       "      <td>369.7</td>\n",
       "    </tr>\n",
       "    <tr>\n",
       "      <th>1</th>\n",
       "      <td>54.6</td>\n",
       "      <td>858.8</td>\n",
       "    </tr>\n",
       "    <tr>\n",
       "      <th>2</th>\n",
       "      <td>55.8</td>\n",
       "      <td>-585.3</td>\n",
       "    </tr>\n",
       "    <tr>\n",
       "      <th>3</th>\n",
       "      <td>65.6</td>\n",
       "      <td>-2762.4</td>\n",
       "    </tr>\n",
       "    <tr>\n",
       "      <th>4</th>\n",
       "      <td>48.9</td>\n",
       "      <td>423.8</td>\n",
       "    </tr>\n",
       "    <tr>\n",
       "      <th>5</th>\n",
       "      <td>66.5</td>\n",
       "      <td>1451.9</td>\n",
       "    </tr>\n",
       "    <tr>\n",
       "      <th>6</th>\n",
       "      <td>57.2</td>\n",
       "      <td>492.3</td>\n",
       "    </tr>\n",
       "    <tr>\n",
       "      <th>7</th>\n",
       "      <td>46.4</td>\n",
       "      <td>-430.5</td>\n",
       "    </tr>\n",
       "    <tr>\n",
       "      <th>8</th>\n",
       "      <td>54.0</td>\n",
       "      <td>817.2</td>\n",
       "    </tr>\n",
       "    <tr>\n",
       "      <th>9</th>\n",
       "      <td>58.7</td>\n",
       "      <td>809.1</td>\n",
       "    </tr>\n",
       "  </tbody>\n",
       "</table>\n",
       "</div>"
      ],
      "text/plain": [
       "   Height  Weight\n",
       "0    40.9   369.7\n",
       "1    54.6   858.8\n",
       "2    55.8  -585.3\n",
       "3    65.6 -2762.4\n",
       "4    48.9   423.8\n",
       "5    66.5  1451.9\n",
       "6    57.2   492.3\n",
       "7    46.4  -430.5\n",
       "8    54.0   817.2\n",
       "9    58.7   809.1"
      ]
     },
     "execution_count": 13,
     "metadata": {},
     "output_type": "execute_result"
    }
   ],
   "source": [
    "df = pd.DataFrame({'Height':height, 'Weight':new_weight})\n",
    "df = df.round(1)\n",
    "df.head(10)"
   ]
  },
  {
   "cell_type": "code",
   "execution_count": 14,
   "metadata": {},
   "outputs": [
    {
     "data": {
      "text/plain": [
       "Text(0.5, 1.0, 'Residual plot')"
      ]
     },
     "execution_count": 14,
     "metadata": {},
     "output_type": "execute_result"
    },
    {
     "data": {
      "image/png": "[encoded data removed]",
      "text/plain": [
       "<Figure size 864x432 with 2 Axes>"
      ]
     },
     "metadata": {
      "needs_background": "light"
     },
     "output_type": "display_data"
    }
   ],
   "source": [
    "fig,axes = plt.subplots(1,2,figsize=(12,6))\n",
    "sns.regplot(x='Height', y='Weight', data=df, ax = axes[0])\n",
    "sns.residplot(x='Height', y='Weight', data=df, ax = axes[1])\n",
    "\n",
    "axes[0].set_title('Regression plot')\n",
    "axes[1].set_title('Residual plot')"
   ]
  },
  {
   "cell_type": "markdown",
   "metadata": {},
   "source": [
    "## Violation of linear relation\n",
    "\n",
    "* if curvature is present in the residuals, then it is likely that there is curvature in the relationship between the response and the predictor that is not explained by our model.  \n",
    "* A linear model does not adequately describe the relationship between the predictor and the response\n",
    "\n",
    "<img src=\"img/linearity.png\" width=500, align=\"center\" />\n"
   ]
  },
  {
   "cell_type": "code",
   "execution_count": 15,
   "metadata": {},
   "outputs": [
    {
     "data": {
      "text/html": [
       "<div>\n",
       "<style scoped>\n",
       "    .dataframe tbody tr th:only-of-type {\n",
       "        vertical-align: middle;\n",
       "    }\n",
       "\n",
       "    .dataframe tbody tr th {\n",
       "        vertical-align: top;\n",
       "    }\n",
       "\n",
       "    .dataframe thead th {\n",
       "        text-align: right;\n",
       "    }\n",
       "</style>\n",
       "<table border=\"1\" class=\"dataframe\">\n",
       "  <thead>\n",
       "    <tr style=\"text-align: right;\">\n",
       "      <th></th>\n",
       "      <th>Height</th>\n",
       "      <th>Weight</th>\n",
       "    </tr>\n",
       "  </thead>\n",
       "  <tbody>\n",
       "    <tr>\n",
       "      <th>0</th>\n",
       "      <td>65.4</td>\n",
       "      <td>8571.0</td>\n",
       "    </tr>\n",
       "    <tr>\n",
       "      <th>1</th>\n",
       "      <td>72.4</td>\n",
       "      <td>10494.4</td>\n",
       "    </tr>\n",
       "    <tr>\n",
       "      <th>2</th>\n",
       "      <td>57.7</td>\n",
       "      <td>6667.1</td>\n",
       "    </tr>\n",
       "    <tr>\n",
       "      <th>3</th>\n",
       "      <td>50.5</td>\n",
       "      <td>5115.2</td>\n",
       "    </tr>\n",
       "    <tr>\n",
       "      <th>4</th>\n",
       "      <td>44.7</td>\n",
       "      <td>3996.3</td>\n",
       "    </tr>\n",
       "    <tr>\n",
       "      <th>5</th>\n",
       "      <td>69.8</td>\n",
       "      <td>9747.5</td>\n",
       "    </tr>\n",
       "    <tr>\n",
       "      <th>6</th>\n",
       "      <td>54.3</td>\n",
       "      <td>5935.5</td>\n",
       "    </tr>\n",
       "    <tr>\n",
       "      <th>7</th>\n",
       "      <td>44.5</td>\n",
       "      <td>3981.5</td>\n",
       "    </tr>\n",
       "    <tr>\n",
       "      <th>8</th>\n",
       "      <td>41.2</td>\n",
       "      <td>3405.7</td>\n",
       "    </tr>\n",
       "    <tr>\n",
       "      <th>9</th>\n",
       "      <td>45.6</td>\n",
       "      <td>4177.1</td>\n",
       "    </tr>\n",
       "  </tbody>\n",
       "</table>\n",
       "</div>"
      ],
      "text/plain": [
       "   Height   Weight\n",
       "0    65.4   8571.0\n",
       "1    72.4  10494.4\n",
       "2    57.7   6667.1\n",
       "3    50.5   5115.2\n",
       "4    44.7   3996.3\n",
       "5    69.8   9747.5\n",
       "6    54.3   5935.5\n",
       "7    44.5   3981.5\n",
       "8    41.2   3405.7\n",
       "9    45.6   4177.1"
      ]
     },
     "execution_count": 15,
     "metadata": {},
     "output_type": "execute_result"
    }
   ],
   "source": [
    "height = np.random.uniform(40,75, 50)\n",
    "beta0 = 10\n",
    "beta1 = 2\n",
    "weight = beta0 + beta1*height*height + np.random.normal(0,10, len(height))\n",
    "\n",
    "df = pd.DataFrame({'Height':height, 'Weight':weight})\n",
    "df = df.round(1)\n",
    "df.head(10)"
   ]
  },
  {
   "cell_type": "code",
   "execution_count": 16,
   "metadata": {},
   "outputs": [
    {
     "data": {
      "text/plain": [
       "Text(0.5, 1.0, 'Residual plot')"
      ]
     },
     "execution_count": 16,
     "metadata": {},
     "output_type": "execute_result"
    },
    {
     "data": {
      "image/png": "[encoded data removed]",
      "text/plain": [
       "<Figure size 864x432 with 2 Axes>"
      ]
     },
     "metadata": {
      "needs_background": "light"
     },
     "output_type": "display_data"
    }
   ],
   "source": [
    "fig,axes = plt.subplots(1,2,figsize=(12,6))\n",
    "sns.regplot(x='Height', y='Weight', data=df, ax = axes[0])\n",
    "sns.residplot(x='Height', y='Weight', data=df, ax = axes[1])\n",
    "\n",
    "axes[0].set_title('Regression plot')\n",
    "axes[1].set_title('Residual plot')"
   ]
  },
  {
   "cell_type": "markdown",
   "metadata": {},
   "source": [
    "## Effect of Outlier\n",
    "\n",
    "* Outliers can have a big influence on the fit of the regression line\n",
    "* The one extreme outlier is essentially tilting the regression line\n",
    "* As a result, the model will not predict well for many of the observations.\n",
    "\n",
    "<img src=\"img/outlier.png\" width=500, align=\"center\" />"
   ]
  },
  {
   "cell_type": "code",
   "execution_count": 17,
   "metadata": {},
   "outputs": [
    {
     "data": {
      "text/plain": [
       "Text(0, 0.5, 'Y [arbitrary units]')"
      ]
     },
     "execution_count": 17,
     "metadata": {},
     "output_type": "execute_result"
    },
    {
     "data": {
      "image/png": "[encoded data removed]",
      "text/plain": [
       "<Figure size 432x432 with 1 Axes>"
      ]
     },
     "metadata": {
      "needs_background": "light"
     },
     "output_type": "display_data"
    }
   ],
   "source": [
    "x = np.random.uniform(0,5,10)\n",
    "y = 2*x + 5 + np.random.normal(0,3,size=len(x))\n",
    "\n",
    "x_outlier = np.append(x,4)\n",
    "y_outlier = np.append(y,200)\n",
    "\n",
    "slope, intercept = np.polyfit(x,y,1)\n",
    "slope_outlier, intercept_outlier = np.polyfit(x_outlier, y_outlier,1)\n",
    "\n",
    "fig, axes = plt.subplots(figsize=(6,6))\n",
    "\n",
    "plt.plot(x_outlier, y_outlier, marker='o', linestyle='none', label='Data')\n",
    "\n",
    "plt.plot(x, x*slope_outlier+intercept_outlier, label='Outlier')\n",
    "\n",
    "plt.plot(x, x*slope+intercept, label='Removing Outlier')\n",
    "\n",
    "plt.legend()\n",
    "\n",
    "plt.xlabel('X [arbitrary units]')\n",
    "plt.ylabel('Y [arbitrary units]')"
   ]
  }
 ],
 "metadata": {
  "kernelspec": {
   "display_name": "Python 3",
   "language": "python",
   "name": "python3"
  },
  "language_info": {
   "codemirror_mode": {
    "name": "ipython",
    "version": 3
   },
   "file_extension": ".py",
   "mimetype": "text/x-python",
   "name": "python",
   "nbconvert_exporter": "python",
   "pygments_lexer": "ipython3",
   "version": "3.7.4"
  },
  "toc": {
   "base_numbering": 1,
   "nav_menu": {},
   "number_sections": true,
   "sideBar": true,
   "skip_h1_title": false,
   "title_cell": "Table of Contents",
   "title_sidebar": "Contents",
   "toc_cell": false,
   "toc_position": {},
   "toc_section_display": true,
   "toc_window_display": false
  }
 },
 "nbformat": 4,
 "nbformat_minor": 4
}
