{
  "nbformat": 4,
  "nbformat_minor": 0,
  "metadata": {
    "colab": {
      "name": "HypothesisTesting.ipynb",
      "provenance": [],
      "authorship_tag": "ABX9TyMEXB3hRiP3HwktQy+me5x7",
      "include_colab_link": true
    },
    "kernelspec": {
      "name": "python3",
      "display_name": "Python 3"
    },
    "language_info": {
      "name": "python"
    }
  },
  "cells": [
    {
      "cell_type": "markdown",
      "metadata": {
        "id": "view-in-github",
        "colab_type": "text"
      },
      "source": [
        "<a href=\"https://colab.research.google.com/github/skumarudel/DS_Physicists/blob/master/Lecture3-Statistics/HypothesisTesting.ipynb\" target=\"_parent\"><img src=\"https://colab.research.google.com/assets/colab-badge.svg\" alt=\"Open In Colab\"/></a>"
      ]
    },
    {
      "cell_type": "markdown",
      "metadata": {
        "id": "JXPZ1CI2-4Ea"
      },
      "source": [
        "# Understanding the sales of a particular product using Web engagement as a proxy"
      ]
    },
    {
      "cell_type": "code",
      "metadata": {
        "id": "Zr7jw8tN1B2F"
      },
      "source": [
        "%matplotlib inline\n",
        "\n",
        "import random\n",
        "import pandas as pd\n",
        "import numpy as np\n",
        "from sklearn.utils import resample\n",
        "\n",
        "from scipy import stats\n",
        "import statsmodels.api as sm\n",
        "import statsmodels.formula.api as smf\n",
        "from statsmodels.stats import power\n",
        "\n",
        "import matplotlib.pylab as plt\n",
        "import seaborn as sns\n",
        "import warnings\n",
        "warnings.filterwarnings(\"ignore\")"
      ],
      "execution_count": 73,
      "outputs": []
    },
    {
      "cell_type": "markdown",
      "metadata": {
        "id": "DNgmNs7M2tCu"
      },
      "source": [
        "## Data Files required for analysis"
      ]
    },
    {
      "cell_type": "code",
      "metadata": {
        "id": "UaGarVXq1N9k"
      },
      "source": [
        "path_to_data = 'https://raw.githubusercontent.com/skumarudel/DS_Physicists/master/Lecture3-Statistics/datafiles/'\n",
        "\n",
        "WEB_PAGE_DATA_CSV = path_to_data + 'web_page_data.csv'\n",
        "FOUR_SESSIONS_CSV =  path_to_data + 'four_sessions.csv'\n",
        "CLICK_RATE_CSV = path_to_data + 'click_rates.csv'\n",
        "IMANISHI_CSV = path_to_data + 'imanishi_data.csv'"
      ],
      "execution_count": 74,
      "outputs": []
    },
    {
      "cell_type": "code",
      "metadata": {
        "id": "3Q1HVEzq3KkK"
      },
      "source": [
        "session_times = pd.read_csv(WEB_PAGE_DATA_CSV)\n",
        "session_times.Time = 60 * session_times.Time  # convert to seconds\n"
      ],
      "execution_count": 75,
      "outputs": []
    },
    {
      "cell_type": "code",
      "metadata": {
        "colab": {
          "base_uri": "https://localhost:8080/",
          "height": 206
        },
        "id": "i9lx43Cv3Nyr",
        "outputId": "6e2be9fa-2b9b-4774-8911-1683d2ef5c30"
      },
      "source": [
        "session_times.head()\n",
        "\n"
      ],
      "execution_count": 76,
      "outputs": [
        {
          "output_type": "execute_result",
          "data": {
            "text/html": [
              "<div>\n",
              "<style scoped>\n",
              "    .dataframe tbody tr th:only-of-type {\n",
              "        vertical-align: middle;\n",
              "    }\n",
              "\n",
              "    .dataframe tbody tr th {\n",
              "        vertical-align: top;\n",
              "    }\n",
              "\n",
              "    .dataframe thead th {\n",
              "        text-align: right;\n",
              "    }\n",
              "</style>\n",
              "<table border=\"1\" class=\"dataframe\">\n",
              "  <thead>\n",
              "    <tr style=\"text-align: right;\">\n",
              "      <th></th>\n",
              "      <th>Page</th>\n",
              "      <th>Time</th>\n",
              "    </tr>\n",
              "  </thead>\n",
              "  <tbody>\n",
              "    <tr>\n",
              "      <th>0</th>\n",
              "      <td>Page A</td>\n",
              "      <td>12.6</td>\n",
              "    </tr>\n",
              "    <tr>\n",
              "      <th>1</th>\n",
              "      <td>Page B</td>\n",
              "      <td>151.8</td>\n",
              "    </tr>\n",
              "    <tr>\n",
              "      <th>2</th>\n",
              "      <td>Page A</td>\n",
              "      <td>21.0</td>\n",
              "    </tr>\n",
              "    <tr>\n",
              "      <th>3</th>\n",
              "      <td>Page B</td>\n",
              "      <td>42.6</td>\n",
              "    </tr>\n",
              "    <tr>\n",
              "      <th>4</th>\n",
              "      <td>Page A</td>\n",
              "      <td>40.2</td>\n",
              "    </tr>\n",
              "  </tbody>\n",
              "</table>\n",
              "</div>"
            ],
            "text/plain": [
              "     Page   Time\n",
              "0  Page A   12.6\n",
              "1  Page B  151.8\n",
              "2  Page A   21.0\n",
              "3  Page B   42.6\n",
              "4  Page A   40.2"
            ]
          },
          "metadata": {},
          "execution_count": 76
        }
      ]
    },
    {
      "cell_type": "code",
      "metadata": {
        "colab": {
          "base_uri": "https://localhost:8080/",
          "height": 297
        },
        "id": "FJrDY8BJ3QBo",
        "outputId": "8c85c01a-3bb1-45a8-f211-df57a175e836"
      },
      "source": [
        "ax = sns.boxplot(x=\"Page\", y=\"Time\", data=session_times)\n",
        "ax.set_xlabel('')\n",
        "ax.set_ylabel('Time (in seconds)')\n",
        "plt.suptitle('')\n",
        "\n",
        "plt.tight_layout()\n",
        "plt.show()\n"
      ],
      "execution_count": 77,
      "outputs": [
        {
          "output_type": "display_data",
          "data": {
            "image/png": "[encoded data removed]",
            "text/plain": [
              "<Figure size 432x288 with 1 Axes>"
            ]
          },
          "metadata": {
            "needs_background": "light"
          }
        }
      ]
    },
    {
      "cell_type": "code",
      "metadata": {
        "colab": {
          "base_uri": "https://localhost:8080/"
        },
        "id": "NYmkINELDkdB",
        "outputId": "ff0f4457-4e61-4b7e-9255-ff7f485f948d"
      },
      "source": [
        "len(session_times[session_times.Page == 'Page B'])"
      ],
      "execution_count": 78,
      "outputs": [
        {
          "output_type": "execute_result",
          "data": {
            "text/plain": [
              "15"
            ]
          },
          "metadata": {},
          "execution_count": 78
        }
      ]
    },
    {
      "cell_type": "code",
      "metadata": {
        "colab": {
          "base_uri": "https://localhost:8080/",
          "height": 112
        },
        "id": "Ir8VEZfI3-al",
        "outputId": "0e60746a-45e0-41d7-fae3-18fc453a4f9a"
      },
      "source": [
        "df_time = session_times.groupby(['Page']).mean().reset_index().rename(columns={'Time': 'Mean_Time'})\n",
        "df_time"
      ],
      "execution_count": 79,
      "outputs": [
        {
          "output_type": "execute_result",
          "data": {
            "text/html": [
              "<div>\n",
              "<style scoped>\n",
              "    .dataframe tbody tr th:only-of-type {\n",
              "        vertical-align: middle;\n",
              "    }\n",
              "\n",
              "    .dataframe tbody tr th {\n",
              "        vertical-align: top;\n",
              "    }\n",
              "\n",
              "    .dataframe thead th {\n",
              "        text-align: right;\n",
              "    }\n",
              "</style>\n",
              "<table border=\"1\" class=\"dataframe\">\n",
              "  <thead>\n",
              "    <tr style=\"text-align: right;\">\n",
              "      <th></th>\n",
              "      <th>Page</th>\n",
              "      <th>Mean_Time</th>\n",
              "    </tr>\n",
              "  </thead>\n",
              "  <tbody>\n",
              "    <tr>\n",
              "      <th>0</th>\n",
              "      <td>Page A</td>\n",
              "      <td>75.8</td>\n",
              "    </tr>\n",
              "    <tr>\n",
              "      <th>1</th>\n",
              "      <td>Page B</td>\n",
              "      <td>97.2</td>\n",
              "    </tr>\n",
              "  </tbody>\n",
              "</table>\n",
              "</div>"
            ],
            "text/plain": [
              "     Page  Mean_Time\n",
              "0  Page A       75.8\n",
              "1  Page B       97.2"
            ]
          },
          "metadata": {},
          "execution_count": 79
        }
      ]
    },
    {
      "cell_type": "code",
      "metadata": {
        "colab": {
          "base_uri": "https://localhost:8080/"
        },
        "id": "2FJdQxfK4eaM",
        "outputId": "f0ea4974-ed47-42e4-e2cd-333644e9b5b4"
      },
      "source": [
        "observed_diff = df_time.Mean_Time.iloc[1] - df_time.Mean_Time.iloc[0]\n",
        "print(\"Average time difference spend by customers on PageB vs PageA = {:.1f} seconds\".format(observed_diff))"
      ],
      "execution_count": 80,
      "outputs": [
        {
          "output_type": "stream",
          "name": "stdout",
          "text": [
            "Average time difference spend by customers on PageB vs PageA = 21.4 seconds\n"
          ]
        }
      ]
    },
    {
      "cell_type": "code",
      "metadata": {
        "id": "j4APIAOi6R87"
      },
      "source": [
        "def difference_of_means(x,y):\n",
        "    return np.mean(y) -  np.mean(x)\n",
        "\n",
        "def test_null(df, iters = 1000):\n",
        "  groupA = len(df[df.Page == \"Page A\"])\n",
        "  groupA = len(df[df.Page == \"Page B\"])\n",
        "  time = df.Time.to_numpy()\n",
        "  means_diff = np.zeros(iters)\n",
        "  for i in range(iters):\n",
        "      resample_data = resample(time)\n",
        "      xx, yy = resample_data[:groupA], resample_data[groupA:]\n",
        "      means_diff[i] = difference_of_means(xx,yy)\n",
        "        \n",
        "        \n",
        "  return means_diff\n",
        "    "
      ],
      "execution_count": 81,
      "outputs": []
    },
    {
      "cell_type": "code",
      "metadata": {
        "colab": {
          "base_uri": "https://localhost:8080/",
          "height": 330
        },
        "id": "ypNX4h-aE0mC",
        "outputId": "1381e175-77c1-43c9-b0ae-94691ff04317"
      },
      "source": [
        "np.random.seed(5)\n",
        "diff_of_mean = test_null(session_times, iters=5000)\n",
        "sns.distplot(diff_of_mean)\n",
        "    \n",
        "plt.title('Bootstrapped differece in sample means')\n",
        "plt.xlabel('Differece in means')\n",
        "plt.ylabel('Probability Density')\n",
        "plt.axvline(observed_diff, color='red')\n",
        "#plt.legend()\n",
        "p_value = np.sum(diff_of_mean >= observed_diff) / len(diff_of_mean)\n",
        "print(\"The p-value for these samples is {:.2g}\".format(p_value))\n",
        "\n",
        "if p_value < 0.05:\n",
        "    print('We can reject the null hypothesis that Page B is better than Page A in terms of retenion of customers')\n",
        "else:\n",
        "    print('We can not reject the null hypothesis i.e Page B is not statistically different from Page A')\n",
        "\n"
      ],
      "execution_count": 87,
      "outputs": [
        {
          "output_type": "stream",
          "name": "stdout",
          "text": [
            "The p-value for these samples is 0.12\n",
            "We can not reject the null hypothesis i.e Page B is not statistically different from Page A\n"
          ]
        },
        {
          "output_type": "display_data",
          "data": {
            "image/png": "[encoded data removed]",
            "text/plain": [
              "<Figure size 432x288 with 1 Axes>"
            ]
          },
          "metadata": {
            "needs_background": "light"
          }
        }
      ]
    },
    {
      "cell_type": "code",
      "metadata": {
        "colab": {
          "base_uri": "https://localhost:8080/"
        },
        "id": "5KcqdN_cGUfW",
        "outputId": "1ab0608b-0be5-4230-ac4a-5a749d7b833f"
      },
      "source": [
        "tstat, pvalue, df = sm.stats.ttest_ind(\n",
        "    session_times[session_times.Page == 'Page A'].Time, \n",
        "    session_times[session_times.Page == 'Page B'].Time,\n",
        "    usevar='unequal', alternative='smaller')\n",
        "print(f'p-value: {pvalue:.4f}')"
      ],
      "execution_count": 83,
      "outputs": [
        {
          "output_type": "stream",
          "name": "stdout",
          "text": [
            "p-value: 0.1408\n"
          ]
        }
      ]
    },
    {
      "cell_type": "markdown",
      "metadata": {
        "id": "Z4mIcz6bOtfI"
      },
      "source": [
        "## ANOVA"
      ]
    },
    {
      "cell_type": "code",
      "metadata": {
        "colab": {
          "base_uri": "https://localhost:8080/",
          "height": 297
        },
        "id": "Ud6l_3kbHjFP",
        "outputId": "23123aa7-c5be-4309-e67c-8d6b3f9536db"
      },
      "source": [
        "four_sessions = pd.read_csv(FOUR_SESSIONS_CSV)\n",
        "\n",
        "ax = sns.boxplot(x='Page', y='Time',data=four_sessions)\n",
        "ax.set_xlabel('Page')\n",
        "ax.set_ylabel('Time (in seconds)')\n",
        "plt.suptitle('')\n",
        "plt.title('')\n",
        "\n",
        "plt.tight_layout()\n",
        "plt.show()"
      ],
      "execution_count": 90,
      "outputs": [
        {
          "output_type": "display_data",
          "data": {
            "image/png": "[encoded data removed]",
            "text/plain": [
              "<Figure size 432x288 with 1 Axes>"
            ]
          },
          "metadata": {
            "needs_background": "light"
          }
        }
      ]
    },
    {
      "cell_type": "code",
      "metadata": {
        "colab": {
          "base_uri": "https://localhost:8080/",
          "height": 363
        },
        "id": "d3c6OdzuMDIy",
        "outputId": "0117978e-2db4-4b98-d554-c7a897cba149"
      },
      "source": [
        "four_sessions.head(10)"
      ],
      "execution_count": 91,
      "outputs": [
        {
          "output_type": "execute_result",
          "data": {
            "text/html": [
              "<div>\n",
              "<style scoped>\n",
              "    .dataframe tbody tr th:only-of-type {\n",
              "        vertical-align: middle;\n",
              "    }\n",
              "\n",
              "    .dataframe tbody tr th {\n",
              "        vertical-align: top;\n",
              "    }\n",
              "\n",
              "    .dataframe thead th {\n",
              "        text-align: right;\n",
              "    }\n",
              "</style>\n",
              "<table border=\"1\" class=\"dataframe\">\n",
              "  <thead>\n",
              "    <tr style=\"text-align: right;\">\n",
              "      <th></th>\n",
              "      <th>Page</th>\n",
              "      <th>Time</th>\n",
              "    </tr>\n",
              "  </thead>\n",
              "  <tbody>\n",
              "    <tr>\n",
              "      <th>0</th>\n",
              "      <td>Page 1</td>\n",
              "      <td>164</td>\n",
              "    </tr>\n",
              "    <tr>\n",
              "      <th>1</th>\n",
              "      <td>Page 2</td>\n",
              "      <td>178</td>\n",
              "    </tr>\n",
              "    <tr>\n",
              "      <th>2</th>\n",
              "      <td>Page 3</td>\n",
              "      <td>175</td>\n",
              "    </tr>\n",
              "    <tr>\n",
              "      <th>3</th>\n",
              "      <td>Page 4</td>\n",
              "      <td>155</td>\n",
              "    </tr>\n",
              "    <tr>\n",
              "      <th>4</th>\n",
              "      <td>Page 1</td>\n",
              "      <td>172</td>\n",
              "    </tr>\n",
              "    <tr>\n",
              "      <th>5</th>\n",
              "      <td>Page 2</td>\n",
              "      <td>191</td>\n",
              "    </tr>\n",
              "    <tr>\n",
              "      <th>6</th>\n",
              "      <td>Page 3</td>\n",
              "      <td>193</td>\n",
              "    </tr>\n",
              "    <tr>\n",
              "      <th>7</th>\n",
              "      <td>Page 4</td>\n",
              "      <td>166</td>\n",
              "    </tr>\n",
              "    <tr>\n",
              "      <th>8</th>\n",
              "      <td>Page 1</td>\n",
              "      <td>177</td>\n",
              "    </tr>\n",
              "    <tr>\n",
              "      <th>9</th>\n",
              "      <td>Page 2</td>\n",
              "      <td>182</td>\n",
              "    </tr>\n",
              "  </tbody>\n",
              "</table>\n",
              "</div>"
            ],
            "text/plain": [
              "     Page  Time\n",
              "0  Page 1   164\n",
              "1  Page 2   178\n",
              "2  Page 3   175\n",
              "3  Page 4   155\n",
              "4  Page 1   172\n",
              "5  Page 2   191\n",
              "6  Page 3   193\n",
              "7  Page 4   166\n",
              "8  Page 1   177\n",
              "9  Page 2   182"
            ]
          },
          "metadata": {},
          "execution_count": 91
        }
      ]
    },
    {
      "cell_type": "code",
      "metadata": {
        "colab": {
          "base_uri": "https://localhost:8080/"
        },
        "id": "mvBFzze2MTfg",
        "outputId": "29c4c21e-7d22-4955-938e-8e88f08cfa54"
      },
      "source": [
        "observed_variance = four_sessions.groupby('Page').mean().var()[0]\n",
        "print('Observed means:', four_sessions.groupby('Page').mean().values.ravel())\n",
        "print('Variance:', observed_variance)\n",
        "# Permutation test example with stickiness\n",
        "def perm_test(df):\n",
        "    df = df.copy()\n",
        "    df['Time'] = np.random.permutation(df['Time'].values)\n",
        "    return df.groupby('Page').mean().var()[0]\n",
        "    \n",
        "print(perm_test(four_sessions))\n",
        "\n",
        "\n"
      ],
      "execution_count": 97,
      "outputs": [
        {
          "output_type": "stream",
          "name": "stdout",
          "text": [
            "Observed means: [172.8 182.6 175.6 164.6]\n",
            "Variance: 55.426666666666655\n",
            "23.746666666666666\n"
          ]
        }
      ]
    },
    {
      "cell_type": "code",
      "metadata": {
        "colab": {
          "base_uri": "https://localhost:8080/",
          "height": 369
        },
        "id": "Gc7yHb6RMZ_w",
        "outputId": "5f06b02a-019f-4245-d039-8677056aae73"
      },
      "source": [
        "random.seed(1)\n",
        "perm_variance = [perm_test(four_sessions) for _ in range(3000)]\n",
        "\n",
        "p_value_var = np.sum(perm_variance >= observed_variance) / len(perm_variance)\n",
        "#print('Pr(Prob)', np.mean([var > observed_variance for var in perm_variance]))\n",
        "\n",
        "fig, ax = plt.subplots(figsize=(5, 5))\n",
        "ax = sns.histplot(perm_variance)\n",
        "ax.axvline(x = observed_variance, color='black', lw=2)\n",
        "ax.text(60, 200, 'Observed\\nvariance', bbox={'facecolor':'white'})\n",
        "ax.set_xlabel('Variance')\n",
        "ax.set_ylabel('Frequency')\n",
        "\n",
        "plt.tight_layout()\n",
        "plt.show()\n"
      ],
      "execution_count": 117,
      "outputs": [
        {
          "output_type": "display_data",
          "data": {
            "image/png": "[encoded data removed]",
            "text/plain": [
              "<Figure size 360x360 with 1 Axes>"
            ]
          },
          "metadata": {
            "needs_background": "light"
          }
        }
      ]
    },
    {
      "cell_type": "code",
      "metadata": {
        "colab": {
          "base_uri": "https://localhost:8080/"
        },
        "id": "iLsOx1EeM3If",
        "outputId": "5877ca4c-d844-4fe1-c70a-84f4d1482c40"
      },
      "source": [
        "p_value_var"
      ],
      "execution_count": 107,
      "outputs": [
        {
          "output_type": "execute_result",
          "data": {
            "text/plain": [
              "0.08366666666666667"
            ]
          },
          "metadata": {},
          "execution_count": 107
        }
      ]
    },
    {
      "cell_type": "code",
      "metadata": {
        "colab": {
          "base_uri": "https://localhost:8080/"
        },
        "id": "vtTAPSmwYZAY",
        "outputId": "86d6e331-2a50-48af-aed5-7e6478d305e5"
      },
      "source": [
        "model = smf.ols('Time ~ Page', data=four_sessions).fit()\n",
        "                \n",
        "aov_table = sm.stats.anova_lm(model)\n",
        "print(aov_table)\n"
      ],
      "execution_count": 114,
      "outputs": [
        {
          "output_type": "stream",
          "name": "stdout",
          "text": [
            "            df  sum_sq     mean_sq         F    PR(>F)\n",
            "Page       3.0   831.4  277.133333  2.739825  0.077586\n",
            "Residual  16.0  1618.4  101.150000       NaN       NaN\n"
          ]
        }
      ]
    },
    {
      "cell_type": "code",
      "metadata": {
        "colab": {
          "base_uri": "https://localhost:8080/"
        },
        "id": "313L96NydmX2",
        "outputId": "bf26fe12-360d-4563-985d-ebd4a4ae8a4a"
      },
      "source": [
        "res = stats.f_oneway(four_sessions[four_sessions.Page == 'Page 1'].Time, \n",
        "                     four_sessions[four_sessions.Page == 'Page 2'].Time,\n",
        "                     four_sessions[four_sessions.Page == 'Page 3'].Time,\n",
        "                     four_sessions[four_sessions.Page == 'Page 4'].Time)\n",
        "print(f'F-Statistic: {res.statistic / 2:.4f}')\n",
        "print(f'p-value: {res.pvalue / 2:.4f}')"
      ],
      "execution_count": 115,
      "outputs": [
        {
          "output_type": "stream",
          "name": "stdout",
          "text": [
            "F-Statistic: 1.3699\n",
            "p-value: 0.0388\n"
          ]
        }
      ]
    },
    {
      "cell_type": "code",
      "metadata": {
        "id": "7pNDVeHQd_OF"
      },
      "source": [
        "\n"
      ],
      "execution_count": null,
      "outputs": []
    }
  ]
}