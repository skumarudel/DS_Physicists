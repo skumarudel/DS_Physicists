{
  "nbformat": 4,
  "nbformat_minor": 0,
  "metadata": {
    "colab": {
      "name": "HypothesisTesting.ipynb",
      "provenance": [],
      "authorship_tag": "ABX9TyNAeokW9UnkrsZ3gRfkgnYA",
      "include_colab_link": true
    },
    "kernelspec": {
      "name": "python3",
      "display_name": "Python 3"
    },
    "language_info": {
      "name": "python"
    }
  },
  "cells": [
    {
      "cell_type": "markdown",
      "metadata": {
        "id": "view-in-github",
        "colab_type": "text"
      },
      "source": [
        "<a href=\"https://colab.research.google.com/github/skumarudel/DS_Physicists/blob/master/Lecture3-Statistics/HypothesisTesting.ipynb\" target=\"_parent\"><img src=\"https://colab.research.google.com/assets/colab-badge.svg\" alt=\"Open In Colab\"/></a>"
      ]
    },
    {
      "cell_type": "code",
      "metadata": {
        "id": "tz1I4wKugeAv"
      },
      "source": [
        "%matplotlib inline\n",
        "\n",
        "import random\n",
        "import pandas as pd\n",
        "import numpy as np\n",
        "from sklearn.utils import resample\n",
        "\n",
        "from scipy import stats\n",
        "import statsmodels.api as sm\n",
        "import statsmodels.formula.api as smf\n",
        "from statsmodels.stats import power\n",
        "\n",
        "import matplotlib.pylab as plt\n",
        "import seaborn as sns\n",
        "import warnings\n",
        "warnings.filterwarnings(\"ignore\")"
      ],
      "execution_count": 3,
      "outputs": []
    },
    {
      "cell_type": "markdown",
      "metadata": {
        "id": "w_BdyKy5fLXv"
      },
      "source": [
        "# Hypothesis Testing\n",
        "Hypothesis testing uses concepts from statistics to determine the probability that a given assumption is valid. Typically hypothesis testing starts with an assumption or an assertion about a population parameter. For example, you may be interested in validating the claim of Philips that the average life of there bulb 10 years.\n",
        "\n",
        "**The procedure to perform hypothesis testing is shown below**\n",
        "- State the null hypothesis, and the statistics with which to test the statement\n",
        "- Measured the observed statistics (from the observed data). For example mean, median or something else\n",
        "- Randomly sample n data with replacement (or without replacement) from the observed data. This means the same point may appear upto n times in one sample\n",
        "- Repeate the experiment thousands of time and store the statistics in an array\n",
        "- Figure out the fraction of time the simulated dataset give statistics equal to or greater than the measured statistics."
      ]
    },
    {
      "cell_type": "markdown",
      "metadata": {
        "id": "wVqmpd9Wf8mP"
      },
      "source": [
        "# P-value\n",
        "in statistical hypothesis testing, the p-value or probability value or asymptotic significance is the probability for a given statistical model that, when the null hypothesis is true, the statistical summary (such as the sample mean difference between two compared groups) would be greater than or equal to the actual observed results.\n",
        "\n",
        "- So if the P-value is the probability of obtaining your sample data if H0 is true, it makes sense that past a certain point, we have to concede that our null hypothesis is false.\n",
        "- In general, if p_value is less than 0.05 reject the null hypothesis otherwise retain it"
      ]
    },
    {
      "cell_type": "code",
      "metadata": {
        "colab": {
          "base_uri": "https://localhost:8080/",
          "height": 388
        },
        "id": "2y9DG5drgi3B",
        "outputId": "df759f3b-af28-4940-bd3b-456b9f5790dc"
      },
      "source": [
        "Null = 5. # Height\n",
        "Alternate = 6.\n",
        "std = 0.5\n",
        "fig,axes = plt.subplots(figsize=(8,6))\n",
        "x = np.random.normal(Null,std,1000)\n",
        "axes.hist(x, density=True, label='Null hypothesis distribution', histtype='step')\n",
        "plt.axvline(Alternate, color='red', label='test_statistics')\n",
        "px=np.arange(Alternate,10,0.01)\n",
        "dist=stats.norm(Null,std)\n",
        "xy = np.linspace(-3+Null, Null+3,100)\n",
        "axes.plot(xy, dist.pdf(xy), color='blue')\n",
        "axes.fill_between(px,iq.pdf(px),color='r')\n",
        "plt.ylabel('Probability Density')\n",
        "plt.xlabel('Mean age of bulb')\n",
        "\n",
        "axes.annotate('p-value (red area)', xy=(Alternate+0.2, 0.05), xytext=(7, 0.5),\n",
        "            arrowprops=dict(facecolor='red', shrink=0.05))\n",
        "\n",
        "plt.legend();\n"
      ],
      "execution_count": 9,
      "outputs": [
        {
          "output_type": "display_data",
          "data": {
            "image/png": "[encoded data removed]",
            "text/plain": [
              "<Figure size 576x432 with 1 Axes>"
            ]
          },
          "metadata": {
            "needs_background": "light"
          }
        }
      ]
    },
    {
      "cell_type": "code",
      "metadata": {
        "colab": {
          "base_uri": "https://localhost:8080/"
        },
        "id": "tZW9pVO2hZHr",
        "outputId": "2bb78a73-1880-4a43-a78f-7f003648817b"
      },
      "source": [
        "1 - dist.cdf(6.), dist.sf(6.)"
      ],
      "execution_count": 23,
      "outputs": [
        {
          "output_type": "execute_result",
          "data": {
            "text/plain": [
              "(0.02275013194817921, 0.022750131948179195)"
            ]
          },
          "metadata": {},
          "execution_count": 23
        }
      ]
    },
    {
      "cell_type": "markdown",
      "metadata": {
        "id": "JXPZ1CI2-4Ea"
      },
      "source": [
        "# Understanding the sales of a particular product using Web engagement as a proxy"
      ]
    },
    {
      "cell_type": "code",
      "metadata": {
        "id": "Zr7jw8tN1B2F"
      },
      "source": [
        "%matplotlib inline\n",
        "\n",
        "import random\n",
        "import pandas as pd\n",
        "import numpy as np\n",
        "from sklearn.utils import resample\n",
        "\n",
        "from scipy import stats\n",
        "import statsmodels.api as sm\n",
        "import statsmodels.formula.api as smf\n",
        "from statsmodels.stats import power\n",
        "\n",
        "import matplotlib.pylab as plt\n",
        "import seaborn as sns\n",
        "import warnings\n",
        "warnings.filterwarnings(\"ignore\")"
      ],
      "execution_count": 118,
      "outputs": []
    },
    {
      "cell_type": "markdown",
      "metadata": {
        "id": "DNgmNs7M2tCu"
      },
      "source": [
        "## Data Files required for analysis"
      ]
    },
    {
      "cell_type": "code",
      "metadata": {
        "id": "UaGarVXq1N9k"
      },
      "source": [
        "path_to_data = 'https://raw.githubusercontent.com/skumarudel/DS_Physicists/master/Lecture3-Statistics/datafiles/'\n",
        "\n",
        "WEB_PAGE_DATA_CSV = path_to_data + 'web_page_data.csv'\n",
        "FOUR_SESSIONS_CSV =  path_to_data + 'four_sessions.csv'"
      ],
      "execution_count": 119,
      "outputs": []
    },
    {
      "cell_type": "code",
      "metadata": {
        "id": "3Q1HVEzq3KkK"
      },
      "source": [
        "session_times = pd.read_csv(WEB_PAGE_DATA_CSV)\n",
        "session_times.Time = 60 * session_times.Time  # convert to seconds\n"
      ],
      "execution_count": 120,
      "outputs": []
    },
    {
      "cell_type": "code",
      "metadata": {
        "colab": {
          "base_uri": "https://localhost:8080/",
          "height": 206
        },
        "id": "i9lx43Cv3Nyr",
        "outputId": "d544480f-7c95-49e6-88f5-e39c82c7d584"
      },
      "source": [
        "session_times.head()\n",
        "\n"
      ],
      "execution_count": 121,
      "outputs": [
        {
          "output_type": "execute_result",
          "data": {
            "text/html": [
              "<div>\n",
              "<style scoped>\n",
              "    .dataframe tbody tr th:only-of-type {\n",
              "        vertical-align: middle;\n",
              "    }\n",
              "\n",
              "    .dataframe tbody tr th {\n",
              "        vertical-align: top;\n",
              "    }\n",
              "\n",
              "    .dataframe thead th {\n",
              "        text-align: right;\n",
              "    }\n",
              "</style>\n",
              "<table border=\"1\" class=\"dataframe\">\n",
              "  <thead>\n",
              "    <tr style=\"text-align: right;\">\n",
              "      <th></th>\n",
              "      <th>Page</th>\n",
              "      <th>Time</th>\n",
              "    </tr>\n",
              "  </thead>\n",
              "  <tbody>\n",
              "    <tr>\n",
              "      <th>0</th>\n",
              "      <td>Page A</td>\n",
              "      <td>12.6</td>\n",
              "    </tr>\n",
              "    <tr>\n",
              "      <th>1</th>\n",
              "      <td>Page B</td>\n",
              "      <td>151.8</td>\n",
              "    </tr>\n",
              "    <tr>\n",
              "      <th>2</th>\n",
              "      <td>Page A</td>\n",
              "      <td>21.0</td>\n",
              "    </tr>\n",
              "    <tr>\n",
              "      <th>3</th>\n",
              "      <td>Page B</td>\n",
              "      <td>42.6</td>\n",
              "    </tr>\n",
              "    <tr>\n",
              "      <th>4</th>\n",
              "      <td>Page A</td>\n",
              "      <td>40.2</td>\n",
              "    </tr>\n",
              "  </tbody>\n",
              "</table>\n",
              "</div>"
            ],
            "text/plain": [
              "     Page   Time\n",
              "0  Page A   12.6\n",
              "1  Page B  151.8\n",
              "2  Page A   21.0\n",
              "3  Page B   42.6\n",
              "4  Page A   40.2"
            ]
          },
          "metadata": {},
          "execution_count": 121
        }
      ]
    },
    {
      "cell_type": "code",
      "metadata": {
        "colab": {
          "base_uri": "https://localhost:8080/",
          "height": 297
        },
        "id": "FJrDY8BJ3QBo",
        "outputId": "0cd220c3-653d-4540-cce0-4b7e8293d4d8"
      },
      "source": [
        "ax = sns.boxplot(x=\"Page\", y=\"Time\", data=session_times)\n",
        "ax.set_xlabel('')\n",
        "ax.set_ylabel('Time (in seconds)')\n",
        "plt.suptitle('')\n",
        "\n",
        "plt.tight_layout()\n",
        "plt.show()\n"
      ],
      "execution_count": 122,
      "outputs": [
        {
          "output_type": "display_data",
          "data": {
            "image/png": "[encoded data removed]",
            "text/plain": [
              "<Figure size 432x288 with 1 Axes>"
            ]
          },
          "metadata": {
            "needs_background": "light"
          }
        }
      ]
    },
    {
      "cell_type": "code",
      "metadata": {
        "colab": {
          "base_uri": "https://localhost:8080/"
        },
        "id": "NYmkINELDkdB",
        "outputId": "72139716-0271-441b-a52d-bc2323603992"
      },
      "source": [
        "len(session_times[session_times.Page == 'Page B'])"
      ],
      "execution_count": 123,
      "outputs": [
        {
          "output_type": "execute_result",
          "data": {
            "text/plain": [
              "15"
            ]
          },
          "metadata": {},
          "execution_count": 123
        }
      ]
    },
    {
      "cell_type": "code",
      "metadata": {
        "colab": {
          "base_uri": "https://localhost:8080/",
          "height": 112
        },
        "id": "Ir8VEZfI3-al",
        "outputId": "2f3f64f9-aff5-443b-af3b-e6581c952232"
      },
      "source": [
        "df_time = session_times.groupby(['Page']).mean().reset_index().rename(columns={'Time': 'Mean_Time'})\n",
        "df_time"
      ],
      "execution_count": 124,
      "outputs": [
        {
          "output_type": "execute_result",
          "data": {
            "text/html": [
              "<div>\n",
              "<style scoped>\n",
              "    .dataframe tbody tr th:only-of-type {\n",
              "        vertical-align: middle;\n",
              "    }\n",
              "\n",
              "    .dataframe tbody tr th {\n",
              "        vertical-align: top;\n",
              "    }\n",
              "\n",
              "    .dataframe thead th {\n",
              "        text-align: right;\n",
              "    }\n",
              "</style>\n",
              "<table border=\"1\" class=\"dataframe\">\n",
              "  <thead>\n",
              "    <tr style=\"text-align: right;\">\n",
              "      <th></th>\n",
              "      <th>Page</th>\n",
              "      <th>Mean_Time</th>\n",
              "    </tr>\n",
              "  </thead>\n",
              "  <tbody>\n",
              "    <tr>\n",
              "      <th>0</th>\n",
              "      <td>Page A</td>\n",
              "      <td>75.8</td>\n",
              "    </tr>\n",
              "    <tr>\n",
              "      <th>1</th>\n",
              "      <td>Page B</td>\n",
              "      <td>97.2</td>\n",
              "    </tr>\n",
              "  </tbody>\n",
              "</table>\n",
              "</div>"
            ],
            "text/plain": [
              "     Page  Mean_Time\n",
              "0  Page A       75.8\n",
              "1  Page B       97.2"
            ]
          },
          "metadata": {},
          "execution_count": 124
        }
      ]
    },
    {
      "cell_type": "code",
      "metadata": {
        "colab": {
          "base_uri": "https://localhost:8080/"
        },
        "id": "2FJdQxfK4eaM",
        "outputId": "34602a5b-197d-48a5-e86c-299abc6e988b"
      },
      "source": [
        "observed_diff = df_time.Mean_Time.iloc[1] - df_time.Mean_Time.iloc[0]\n",
        "print(\"Average time difference spend by customers on PageB vs PageA = {:.1f} seconds\".format(observed_diff))"
      ],
      "execution_count": 125,
      "outputs": [
        {
          "output_type": "stream",
          "name": "stdout",
          "text": [
            "Average time difference spend by customers on PageB vs PageA = 21.4 seconds\n"
          ]
        }
      ]
    },
    {
      "cell_type": "code",
      "metadata": {
        "id": "j4APIAOi6R87"
      },
      "source": [
        "def difference_of_means(x,y):\n",
        "    return np.mean(y) -  np.mean(x)\n",
        "\n",
        "def test_null(df, iters = 1000):\n",
        "  groupA = len(df[df.Page == \"Page A\"])\n",
        "  groupA = len(df[df.Page == \"Page B\"])\n",
        "  time = df.Time.to_numpy()\n",
        "  means_diff = np.zeros(iters)\n",
        "  for i in range(iters):\n",
        "      resample_data = resample(time, replace=False)\n",
        "      xx, yy = resample_data[:groupA], resample_data[groupA:]\n",
        "      means_diff[i] = difference_of_means(xx,yy)\n",
        "        \n",
        "        \n",
        "  return means_diff\n",
        "    "
      ],
      "execution_count": 126,
      "outputs": []
    },
    {
      "cell_type": "code",
      "metadata": {
        "colab": {
          "base_uri": "https://localhost:8080/",
          "height": 330
        },
        "id": "ypNX4h-aE0mC",
        "outputId": "dc024bf8-93a3-4a6c-c543-69e5ec609eba"
      },
      "source": [
        "np.random.seed(5)\n",
        "diff_of_mean = test_null(session_times, iters=5000)\n",
        "sns.distplot(diff_of_mean)\n",
        "    \n",
        "plt.title('Bootstrapped differece in sample means')\n",
        "plt.xlabel('Differece in means')\n",
        "plt.ylabel('Probability Density')\n",
        "plt.axvline(observed_diff, color='red')\n",
        "#plt.legend()\n",
        "p_value = np.sum(diff_of_mean >= observed_diff) / len(diff_of_mean)\n",
        "print(\"The p-value for these samples is {:.2g}\".format(p_value))\n",
        "\n",
        "if p_value < 0.05:\n",
        "    print('We can reject the null hypothesis that Page B is better than Page A in terms of retenion of customers')\n",
        "else:\n",
        "    print('We can not reject the null hypothesis i.e Page B is not statistically different from Page A')\n",
        "\n"
      ],
      "execution_count": 127,
      "outputs": [
        {
          "output_type": "stream",
          "name": "stdout",
          "text": [
            "The p-value for these samples is 0.14\n",
            "We can not reject the null hypothesis i.e Page B is not statistically different from Page A\n"
          ]
        },
        {
          "output_type": "display_data",
          "data": {
            "image/png": "[encoded data removed]",
            "text/plain": [
              "<Figure size 432x288 with 1 Axes>"
            ]
          },
          "metadata": {
            "needs_background": "light"
          }
        }
      ]
    },
    {
      "cell_type": "code",
      "metadata": {
        "colab": {
          "base_uri": "https://localhost:8080/"
        },
        "id": "5KcqdN_cGUfW",
        "outputId": "2168c681-28ce-4ac8-df53-a3bca10f09f3"
      },
      "source": [
        "tstat, pvalue, df = sm.stats.ttest_ind(\n",
        "    session_times[session_times.Page == 'Page A'].Time, \n",
        "    session_times[session_times.Page == 'Page B'].Time,\n",
        "    usevar='unequal', alternative='smaller')\n",
        "print(f'p-value: {pvalue:.4f}')"
      ],
      "execution_count": 128,
      "outputs": [
        {
          "output_type": "stream",
          "name": "stdout",
          "text": [
            "p-value: 0.1408\n"
          ]
        }
      ]
    },
    {
      "cell_type": "markdown",
      "metadata": {
        "id": "Z4mIcz6bOtfI"
      },
      "source": [
        "## ANOVA"
      ]
    },
    {
      "cell_type": "code",
      "metadata": {
        "colab": {
          "base_uri": "https://localhost:8080/",
          "height": 297
        },
        "id": "Ud6l_3kbHjFP",
        "outputId": "23123aa7-c5be-4309-e67c-8d6b3f9536db"
      },
      "source": [
        "four_sessions = pd.read_csv(FOUR_SESSIONS_CSV)\n",
        "\n",
        "ax = sns.boxplot(x='Page', y='Time',data=four_sessions)\n",
        "ax.set_xlabel('Page')\n",
        "ax.set_ylabel('Time (in seconds)')\n",
        "plt.suptitle('')\n",
        "plt.title('')\n",
        "\n",
        "plt.tight_layout()\n",
        "plt.show()"
      ],
      "execution_count": 90,
      "outputs": [
        {
          "output_type": "display_data",
          "data": {
            "image/png": "[encoded data removed]",
            "text/plain": [
              "<Figure size 432x288 with 1 Axes>"
            ]
          },
          "metadata": {
            "needs_background": "light"
          }
        }
      ]
    },
    {
      "cell_type": "code",
      "metadata": {
        "colab": {
          "base_uri": "https://localhost:8080/",
          "height": 363
        },
        "id": "d3c6OdzuMDIy",
        "outputId": "0117978e-2db4-4b98-d554-c7a897cba149"
      },
      "source": [
        "four_sessions.head(10)"
      ],
      "execution_count": 91,
      "outputs": [
        {
          "output_type": "execute_result",
          "data": {
            "text/html": [
              "<div>\n",
              "<style scoped>\n",
              "    .dataframe tbody tr th:only-of-type {\n",
              "        vertical-align: middle;\n",
              "    }\n",
              "\n",
              "    .dataframe tbody tr th {\n",
              "        vertical-align: top;\n",
              "    }\n",
              "\n",
              "    .dataframe thead th {\n",
              "        text-align: right;\n",
              "    }\n",
              "</style>\n",
              "<table border=\"1\" class=\"dataframe\">\n",
              "  <thead>\n",
              "    <tr style=\"text-align: right;\">\n",
              "      <th></th>\n",
              "      <th>Page</th>\n",
              "      <th>Time</th>\n",
              "    </tr>\n",
              "  </thead>\n",
              "  <tbody>\n",
              "    <tr>\n",
              "      <th>0</th>\n",
              "      <td>Page 1</td>\n",
              "      <td>164</td>\n",
              "    </tr>\n",
              "    <tr>\n",
              "      <th>1</th>\n",
              "      <td>Page 2</td>\n",
              "      <td>178</td>\n",
              "    </tr>\n",
              "    <tr>\n",
              "      <th>2</th>\n",
              "      <td>Page 3</td>\n",
              "      <td>175</td>\n",
              "    </tr>\n",
              "    <tr>\n",
              "      <th>3</th>\n",
              "      <td>Page 4</td>\n",
              "      <td>155</td>\n",
              "    </tr>\n",
              "    <tr>\n",
              "      <th>4</th>\n",
              "      <td>Page 1</td>\n",
              "      <td>172</td>\n",
              "    </tr>\n",
              "    <tr>\n",
              "      <th>5</th>\n",
              "      <td>Page 2</td>\n",
              "      <td>191</td>\n",
              "    </tr>\n",
              "    <tr>\n",
              "      <th>6</th>\n",
              "      <td>Page 3</td>\n",
              "      <td>193</td>\n",
              "    </tr>\n",
              "    <tr>\n",
              "      <th>7</th>\n",
              "      <td>Page 4</td>\n",
              "      <td>166</td>\n",
              "    </tr>\n",
              "    <tr>\n",
              "      <th>8</th>\n",
              "      <td>Page 1</td>\n",
              "      <td>177</td>\n",
              "    </tr>\n",
              "    <tr>\n",
              "      <th>9</th>\n",
              "      <td>Page 2</td>\n",
              "      <td>182</td>\n",
              "    </tr>\n",
              "  </tbody>\n",
              "</table>\n",
              "</div>"
            ],
            "text/plain": [
              "     Page  Time\n",
              "0  Page 1   164\n",
              "1  Page 2   178\n",
              "2  Page 3   175\n",
              "3  Page 4   155\n",
              "4  Page 1   172\n",
              "5  Page 2   191\n",
              "6  Page 3   193\n",
              "7  Page 4   166\n",
              "8  Page 1   177\n",
              "9  Page 2   182"
            ]
          },
          "metadata": {},
          "execution_count": 91
        }
      ]
    },
    {
      "cell_type": "code",
      "metadata": {
        "colab": {
          "base_uri": "https://localhost:8080/"
        },
        "id": "mvBFzze2MTfg",
        "outputId": "29c4c21e-7d22-4955-938e-8e88f08cfa54"
      },
      "source": [
        "observed_variance = four_sessions.groupby('Page').mean().var()[0]\n",
        "print('Observed means:', four_sessions.groupby('Page').mean().values.ravel())\n",
        "print('Variance:', observed_variance)\n",
        "# Permutation test example with stickiness\n",
        "def perm_test(df):\n",
        "    df = df.copy()\n",
        "    df['Time'] = np.random.permutation(df['Time'].values)\n",
        "    return df.groupby('Page').mean().var()[0]\n",
        "    \n",
        "print(perm_test(four_sessions))\n",
        "\n",
        "\n"
      ],
      "execution_count": 97,
      "outputs": [
        {
          "output_type": "stream",
          "name": "stdout",
          "text": [
            "Observed means: [172.8 182.6 175.6 164.6]\n",
            "Variance: 55.426666666666655\n",
            "23.746666666666666\n"
          ]
        }
      ]
    },
    {
      "cell_type": "code",
      "metadata": {
        "colab": {
          "base_uri": "https://localhost:8080/",
          "height": 369
        },
        "id": "Gc7yHb6RMZ_w",
        "outputId": "5f06b02a-019f-4245-d039-8677056aae73"
      },
      "source": [
        "random.seed(1)\n",
        "perm_variance = [perm_test(four_sessions) for _ in range(3000)]\n",
        "\n",
        "p_value_var = np.sum(perm_variance >= observed_variance) / len(perm_variance)\n",
        "#print('Pr(Prob)', np.mean([var > observed_variance for var in perm_variance]))\n",
        "\n",
        "fig, ax = plt.subplots(figsize=(5, 5))\n",
        "ax = sns.histplot(perm_variance)\n",
        "ax.axvline(x = observed_variance, color='black', lw=2)\n",
        "ax.text(60, 200, 'Observed\\nvariance', bbox={'facecolor':'white'})\n",
        "ax.set_xlabel('Variance')\n",
        "ax.set_ylabel('Frequency')\n",
        "\n",
        "plt.tight_layout()\n",
        "plt.show()\n"
      ],
      "execution_count": 117,
      "outputs": [
        {
          "output_type": "display_data",
          "data": {
            "image/png": "[encoded data removed]",
            "text/plain": [
              "<Figure size 360x360 with 1 Axes>"
            ]
          },
          "metadata": {
            "needs_background": "light"
          }
        }
      ]
    },
    {
      "cell_type": "code",
      "metadata": {
        "colab": {
          "base_uri": "https://localhost:8080/"
        },
        "id": "iLsOx1EeM3If",
        "outputId": "5877ca4c-d844-4fe1-c70a-84f4d1482c40"
      },
      "source": [
        "p_value_var"
      ],
      "execution_count": 107,
      "outputs": [
        {
          "output_type": "execute_result",
          "data": {
            "text/plain": [
              "0.08366666666666667"
            ]
          },
          "metadata": {},
          "execution_count": 107
        }
      ]
    },
    {
      "cell_type": "code",
      "metadata": {
        "colab": {
          "base_uri": "https://localhost:8080/"
        },
        "id": "vtTAPSmwYZAY",
        "outputId": "86d6e331-2a50-48af-aed5-7e6478d305e5"
      },
      "source": [
        "model = smf.ols('Time ~ Page', data=four_sessions).fit()\n",
        "                \n",
        "aov_table = sm.stats.anova_lm(model)\n",
        "print(aov_table)\n"
      ],
      "execution_count": 114,
      "outputs": [
        {
          "output_type": "stream",
          "name": "stdout",
          "text": [
            "            df  sum_sq     mean_sq         F    PR(>F)\n",
            "Page       3.0   831.4  277.133333  2.739825  0.077586\n",
            "Residual  16.0  1618.4  101.150000       NaN       NaN\n"
          ]
        }
      ]
    },
    {
      "cell_type": "code",
      "metadata": {
        "colab": {
          "base_uri": "https://localhost:8080/"
        },
        "id": "313L96NydmX2",
        "outputId": "bf26fe12-360d-4563-985d-ebd4a4ae8a4a"
      },
      "source": [
        "res = stats.f_oneway(four_sessions[four_sessions.Page == 'Page 1'].Time, \n",
        "                     four_sessions[four_sessions.Page == 'Page 2'].Time,\n",
        "                     four_sessions[four_sessions.Page == 'Page 3'].Time,\n",
        "                     four_sessions[four_sessions.Page == 'Page 4'].Time)\n",
        "print(f'F-Statistic: {res.statistic / 2:.4f}')\n",
        "print(f'p-value: {res.pvalue / 2:.4f}')"
      ],
      "execution_count": 115,
      "outputs": [
        {
          "output_type": "stream",
          "name": "stdout",
          "text": [
            "F-Statistic: 1.3699\n",
            "p-value: 0.0388\n"
          ]
        }
      ]
    },
    {
      "cell_type": "markdown",
      "metadata": {
        "id": "sr8KD9sylKfh"
      },
      "source": [
        "## OLS regression using stats model"
      ]
    },
    {
      "cell_type": "code",
      "metadata": {
        "colab": {
          "base_uri": "https://localhost:8080/",
          "height": 206
        },
        "id": "7pNDVeHQd_OF",
        "outputId": "930ff5bd-145d-4ac5-e57e-1300e099d365"
      },
      "source": [
        "df = sm.datasets.get_rdataset(\"Guerry\", \"HistData\").data\n",
        "df = df[['Lottery', 'Literacy', 'Wealth', 'Region']].dropna()\n",
        "df.head()\n"
      ],
      "execution_count": 25,
      "outputs": [
        {
          "output_type": "execute_result",
          "data": {
            "text/html": [
              "<div>\n",
              "<style scoped>\n",
              "    .dataframe tbody tr th:only-of-type {\n",
              "        vertical-align: middle;\n",
              "    }\n",
              "\n",
              "    .dataframe tbody tr th {\n",
              "        vertical-align: top;\n",
              "    }\n",
              "\n",
              "    .dataframe thead th {\n",
              "        text-align: right;\n",
              "    }\n",
              "</style>\n",
              "<table border=\"1\" class=\"dataframe\">\n",
              "  <thead>\n",
              "    <tr style=\"text-align: right;\">\n",
              "      <th></th>\n",
              "      <th>Lottery</th>\n",
              "      <th>Literacy</th>\n",
              "      <th>Wealth</th>\n",
              "      <th>Region</th>\n",
              "    </tr>\n",
              "  </thead>\n",
              "  <tbody>\n",
              "    <tr>\n",
              "      <th>0</th>\n",
              "      <td>41</td>\n",
              "      <td>37</td>\n",
              "      <td>73</td>\n",
              "      <td>E</td>\n",
              "    </tr>\n",
              "    <tr>\n",
              "      <th>1</th>\n",
              "      <td>38</td>\n",
              "      <td>51</td>\n",
              "      <td>22</td>\n",
              "      <td>N</td>\n",
              "    </tr>\n",
              "    <tr>\n",
              "      <th>2</th>\n",
              "      <td>66</td>\n",
              "      <td>13</td>\n",
              "      <td>61</td>\n",
              "      <td>C</td>\n",
              "    </tr>\n",
              "    <tr>\n",
              "      <th>3</th>\n",
              "      <td>80</td>\n",
              "      <td>46</td>\n",
              "      <td>76</td>\n",
              "      <td>E</td>\n",
              "    </tr>\n",
              "    <tr>\n",
              "      <th>4</th>\n",
              "      <td>79</td>\n",
              "      <td>69</td>\n",
              "      <td>83</td>\n",
              "      <td>E</td>\n",
              "    </tr>\n",
              "  </tbody>\n",
              "</table>\n",
              "</div>"
            ],
            "text/plain": [
              "   Lottery  Literacy  Wealth Region\n",
              "0       41        37      73      E\n",
              "1       38        51      22      N\n",
              "2       66        13      61      C\n",
              "3       80        46      76      E\n",
              "4       79        69      83      E"
            ]
          },
          "metadata": {},
          "execution_count": 25
        }
      ]
    },
    {
      "cell_type": "code",
      "metadata": {
        "colab": {
          "base_uri": "https://localhost:8080/"
        },
        "id": "1wgDi8tctukM",
        "outputId": "738a641f-8cc2-491f-8733-f18290080b37"
      },
      "source": [
        "len(df)"
      ],
      "execution_count": 32,
      "outputs": [
        {
          "output_type": "execute_result",
          "data": {
            "text/plain": [
              "85"
            ]
          },
          "metadata": {},
          "execution_count": 32
        }
      ]
    },
    {
      "cell_type": "code",
      "metadata": {
        "id": "Kgg1vlPTlRG1"
      },
      "source": [
        "mod = smf.ols(formula='Lottery ~ Wealth', data=df)\n",
        "res = mod.fit()"
      ],
      "execution_count": 38,
      "outputs": []
    },
    {
      "cell_type": "code",
      "metadata": {
        "colab": {
          "base_uri": "https://localhost:8080/"
        },
        "id": "xkTXvtS3lczq",
        "outputId": "0bbee196-4ff6-44b3-d2a2-1e3b89bb9de4"
      },
      "source": [
        "print(res.summary())"
      ],
      "execution_count": 39,
      "outputs": [
        {
          "output_type": "stream",
          "name": "stdout",
          "text": [
            "                            OLS Regression Results                            \n",
            "==============================================================================\n",
            "Dep. Variable:                Lottery   R-squared:                       0.243\n",
            "Model:                            OLS   Adj. R-squared:                  0.234\n",
            "Method:                 Least Squares   F-statistic:                     26.67\n",
            "Date:                Sat, 04 Dec 2021   Prob (F-statistic):           1.63e-06\n",
            "Time:                        00:01:06   Log-Likelihood:                -380.99\n",
            "No. Observations:                  85   AIC:                             766.0\n",
            "Df Residuals:                      83   BIC:                             770.9\n",
            "Df Model:                           1                                         \n",
            "Covariance Type:            nonrobust                                         \n",
            "==============================================================================\n",
            "                 coef    std err          t      P>|t|      [0.025      0.975]\n",
            "------------------------------------------------------------------------------\n",
            "Intercept     21.8602      4.725      4.626      0.000      12.462      31.259\n",
            "Wealth         0.4859      0.094      5.164      0.000       0.299       0.673\n",
            "==============================================================================\n",
            "Omnibus:                        5.172   Durbin-Watson:                   1.934\n",
            "Prob(Omnibus):                  0.075   Jarque-Bera (JB):                3.875\n",
            "Skew:                          -0.393   Prob(JB):                        0.144\n",
            "Kurtosis:                       2.309   Cond. No.                         101.\n",
            "==============================================================================\n",
            "\n",
            "Warnings:\n",
            "[1] Standard Errors assume that the covariance matrix of the errors is correctly specified.\n"
          ]
        }
      ]
    },
    {
      "cell_type": "markdown",
      "metadata": {
        "id": "rbqU3ZlQwv1z"
      },
      "source": [
        "# T statistics is defined as\n",
        "\n",
        "$t_{stat} = \\frac{(\\hat{\\beta} - \\beta_{0})}{SE(\\hat{\\beta})} = (0.4859 - 0) / 0.094 = 5.169$"
      ]
    },
    {
      "cell_type": "code",
      "metadata": {
        "id": "0phrD9kCvMOY"
      },
      "source": [
        ""
      ],
      "execution_count": null,
      "outputs": []
    }
  ]
}