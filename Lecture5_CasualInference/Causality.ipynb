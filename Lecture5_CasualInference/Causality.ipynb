{
 "cells": [
  {
   "cell_type": "markdown",
   "metadata": {},
   "source": [
    "# Introduction to Causality\n",
    "I just want say, it is the most misunderstood concept when it comes to data analysis"
   ]
  },
  {
   "cell_type": "markdown",
   "metadata": {},
   "source": [
    "# Table of Content\n",
    "<ul>\n",
    "    <li> <a href=\"#Difference\"> Difference between correlation and causality </a> </li>\n",
    "    <li> <a href=\"#Problems\"> Difficulty in estimating causality </a> </li>\n",
    "    <li> <a href=\"#Bias\"> Bias</a> </li> \n",
    "    <li> <a href=\"#Linear regression\"> Linear regression</a> </li> \n",
    "</ul>"
   ]
  },
  {
   "cell_type": "markdown",
   "metadata": {},
   "source": [
    "<a id='Difference'></a>\n",
    "## Difference between correlation and causality\n",
    "* **Correlation** is the presence of relationship between two or more variables\n",
    "  * Variables tend to move together\n",
    "  * Very useful in predictive models\n",
    "  * New wave of artifical intelligence does not bring us intelligence, but the critical compononent of intelligence called precition (recognizing faces, translating from one langauage to another)\n",
    "  * However, prediction is not always the solution. For example, in the hotel industry, prices are low outside the tourist season, and prices are high when demand is highest and hotels are full. Given that data, a naive prediction might suggest that increasing the price would lead to more rooms sold.\n",
    "  \n",
    "--------------------------------------------------------------------------------------------------\n",
    "\n",
    "* **Causality** is harder to define. It generally involves \"What if\" question.\n",
    "  * If I teach students with tablets, they tend to learn more?\n",
    "  * if I take low fat diet, I can decrease the risk of heart attack?\n",
    "  "
   ]
  },
  {
   "cell_type": "markdown",
   "metadata": {},
   "source": [
    "<a id='Problems'></a>\n",
    "## Difficulties in estimating casual relations\n",
    "* **Counterfactuals**\n",
    "  * Need parallel universe under the exact same conditions, with only difference being the conditions we are testing the effect of\n",
    "  * Can never observe the same subject with and without treatment\n",
    "  * This is where you defined well designed randomized experiments (A/B testing)\n",
    "* **Heterogenetiy**\n",
    "  * Humans are instrinscally different species conditioned by their society, environment, education ...so on\n",
    "  * They react differently to differnt triggers, thus making it difficult to eastimate the effect of a cause\n",
    "  \n",
    "* **Confounders**\n",
    "  * A confounding variable is an “extra” variable that you didn’t account for.\n",
    "  * Increase in sales of ice cream is correlated to increase in Air conditioning sales\n",
    "  * What does this mean? what is the cofounder variable here? Any guess\n",
    "  \n",
    "* **Selection effect**\n",
    "  * Because of selection bias we may over- or underestimate a causal effect when we just take the difference in average outcomes across treated and control groups.\n",
    "  * Observed Difference in Means = CausalEffect + SelectionBias"
   ]
  },
  {
   "cell_type": "code",
   "execution_count": null,
   "metadata": {},
   "outputs": [],
   "source": [
    "# fix a seed for our random number generator and number of observations to simulate\n",
    "import matplotlib.pyplot as plt\n",
    "%matplotlib inline\n",
    "import numpy as np\n",
    "np.random.seed(422)\n",
    "nobs = 1000\n",
    "# our third variable will be standard normal\n",
    "temp = np.random.randn(nobs,1)\n",
    "# let's say that z --> x and z--> y# Notice that x and y are not related!\n",
    "x = 0.5 + 0.4*temp + 0.1*np.random.randn(nobs,1)\n",
    "y = 1.5 + 0.1*temp + 0.01*np.random.randn(nobs,1)\n",
    "\n",
    "plt.plot(x,y, marker='o', linestyle='')\n",
    "plt.xlabel('ice cream sales')\n",
    "plt.ylabel('AC sales')\n",
    "plt.show()"
   ]
  },
  {
   "cell_type": "markdown",
   "metadata": {},
   "source": [
    "<a id='Bias'></a>\n",
    "## Concept of Bias"
   ]
  },
  {
   "cell_type": "code",
   "execution_count": null,
   "metadata": {},
   "outputs": [],
   "source": [
    "### Lets discuss a ideal situtation (Causality situtation)"
   ]
  },
  {
   "cell_type": "code",
   "execution_count": null,
   "metadata": {},
   "outputs": [],
   "source": [
    "import pandas as pd"
   ]
  },
  {
   "cell_type": "code",
   "execution_count": null,
   "metadata": {},
   "outputs": [],
   "source": [
    "df = pd.DataFrame(dict(\n",
    "    i= [1,2,3,4],\n",
    "    y0=[500,600,800,700],  # potential school performace without treatment\n",
    "    y1=[450,600,600,750],  # potential school performance with treatment\n",
    "    t= [0,0,1,1],\n",
    "    y= [500,600,600,750],\n",
    "    te=[-50,0,-200,50],  # effect of treatment on each school\n",
    "))\n",
    "df\n"
   ]
  },
  {
   "cell_type": "code",
   "execution_count": null,
   "metadata": {},
   "outputs": [],
   "source": [
    "print(\"Mean of schools that were treated effect is {}, means that the tablets reduces the academic performace by 75 points\".format(df.iloc[2:].te.mean()))"
   ]
  },
  {
   "cell_type": "code",
   "execution_count": null,
   "metadata": {},
   "outputs": [],
   "source": [
    "### lets discuss an realistic situtation (Association situtation)"
   ]
  },
  {
   "cell_type": "code",
   "execution_count": null,
   "metadata": {},
   "outputs": [],
   "source": [
    "df2 = pd.DataFrame(dict(\n",
    "    i= [1,2,3,4],\n",
    "    y0=[500,600,np.nan,np.nan],\n",
    "    y1=[np.nan,np.nan,600,750],\n",
    "    t= [0,0,1,1],\n",
    "    y= [500,600,600,750],\n",
    "    te=[np.nan,np.nan,np.nan,np.nan],\n",
    "))\n",
    "\n",
    "df2"
   ]
  },
  {
   "cell_type": "code",
   "execution_count": null,
   "metadata": {},
   "outputs": [],
   "source": [
    "#Here we can take mean of treated and mean of untreated and take a differnce to esitmate the effect\n",
    "print(\"Mean treatment effect is {}, means that the tablets \\\n",
    "increase the academic performace by 125 points\".format(df.iloc[2:]['y'].mean() - df.iloc[0:2]['y'].mean()))\n",
    "\n"
   ]
  },
  {
   "cell_type": "code",
   "execution_count": null,
   "metadata": {},
   "outputs": [],
   "source": [
    "# See the results in both the scenario, why they are so different?"
   ]
  },
  {
   "cell_type": "markdown",
   "metadata": {},
   "source": [
    "$Y_{0}$ is the outcome indivual would have, had he not received that treatment\n",
    "\n",
    "$Y_{1}$ is the outcome indivual would have, had he received that treatment\n",
    "\n",
    "\n",
    "\n",
    "$$E[Y | 1] - E[Y | 0] = E[Y_{1} | 1] - E[Y_{0} | 0]$$\n",
    "\n",
    "\n",
    "Now add and subtract this from right side \n",
    "\n",
    "$$E[Y_{0} | 1]$$ (counterfactual outcome)\n",
    "It tells what would have been the outcome of the treated, had they not received the treatment\n",
    "\n",
    "$$E[Y | 1] - E[Y | 0] = E[Y_{1} | 1] - E[Y_{0} | 0] + E[Y_{0} | 1] - E[Y_{0} | 1]$$\n",
    "\n",
    "\n",
    "$$\\underbrace{E[Y | 1] - E[Y | 0]}_\\text{association} = \\underbrace{E[Y_{1} - Y_{0} | 1]}_\\text{cause} + \\underbrace{E[Y_{0} | 1] - E[Y_{0} | 0]}_\\text{Bias}$$\n",
    "\n",
    "The bias is given by how the treated and control group differ before the treatment, that is, in case neither of them has received the treatment\n",
    "\n",
    "\n",
    "\n",
    "\n"
   ]
  },
  {
   "cell_type": "markdown",
   "metadata": {},
   "source": [
    "<a id='Linear regression'></a>\n",
    "## Linear regression"
   ]
  },
  {
   "cell_type": "code",
   "execution_count": null,
   "metadata": {},
   "outputs": [],
   "source": [
    "x = np.array(df2.t.to_list())\n",
    "y = np.array(df2.y.to_list())\n",
    "slope, intercept = np.polyfit(x,y,1)\n",
    "\n",
    "fig, axes = plt.subplots(figsize=(6,6))\n",
    "plt.plot(x, x*slope+intercept, label='Regression')\n",
    "\n",
    "plt.legend()\n",
    "\n",
    "plt.xlabel('X [arbitrary units]')\n",
    "plt.ylabel('Y [arbitrary units]')\n",
    "plt.xlim(0,1)\n",
    "plt.ylim(400,700)\n",
    "\n",
    "Title = \"Intercept = {:.1f}, slope = {:.1f}\".format(intercept,slope)\n",
    "plt.title(Title, fontsize=15, fontweight='bold')\n",
    "plt.show()"
   ]
  },
  {
   "cell_type": "code",
   "execution_count": null,
   "metadata": {},
   "outputs": [],
   "source": []
  }
 ],
 "metadata": {
  "kernelspec": {
   "display_name": "Python 3",
   "language": "python",
   "name": "python3"
  },
  "language_info": {
   "codemirror_mode": {
    "name": "ipython",
    "version": 3
   },
   "file_extension": ".py",
   "mimetype": "text/x-python",
   "name": "python",
   "nbconvert_exporter": "python",
   "pygments_lexer": "ipython3",
   "version": "3.7.7"
  },
  "toc": {
   "base_numbering": 1,
   "nav_menu": {},
   "number_sections": true,
   "sideBar": true,
   "skip_h1_title": false,
   "title_cell": "Table of Contents",
   "title_sidebar": "Contents",
   "toc_cell": false,
   "toc_position": {},
   "toc_section_display": true,
   "toc_window_display": false
  }
 },
 "nbformat": 4,
 "nbformat_minor": 2
}
